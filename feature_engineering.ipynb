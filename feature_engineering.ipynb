{
 "cells": [
  {
   "cell_type": "markdown",
   "metadata": {},
   "source": [
    "第一波特征：lr 0.71。categorical feature 做target、onehot、label encoding，加上normal features，60维\n",
    "\n",
    "第二波特征：lr 0.75。对连续型，数值型变量做离散化处理。998维\n",
    "\n",
    "第三波特征：lr 0.76。引入bureau特征。1468维\n",
    "\n",
    "第四波特征：lr 0.77。引入bureau、cash、credit、installment、previous(only)特征。3039维"
   ]
  },
  {
   "cell_type": "code",
   "execution_count": 1,
   "metadata": {
    "collapsed": true
   },
   "outputs": [],
   "source": [
    "%matplotlib inline\n",
    "\n",
    "import pandas as pd\n",
    "import numpy as np\n",
    "import re\n",
    "import category_encoders as ce\n",
    "from sklearn.preprocessing import LabelBinarizer, StandardScaler, MinMaxScaler\n",
    "from sklearn.linear_model import LogisticRegression\n",
    "from sklearn.metrics import roc_auc_score\n",
    "from sklearn.model_selection import train_test_split\n",
    "from sklearn.feature_selection import SelectKBest, chi2, SelectFromModel, mutual_info_classif\n",
    "from sklearn.ensemble import ExtraTreesClassifier\n",
    "\n",
    "from IPython.core.interactiveshell import InteractiveShell\n",
    "InteractiveShell.ast_node_interactivity = \"all\""
   ]
  },
  {
   "cell_type": "code",
   "execution_count": 2,
   "metadata": {},
   "outputs": [
    {
     "data": {
      "text/plain": [
       "((307511, 122), (48744, 121))"
      ]
     },
     "execution_count": 2,
     "metadata": {},
     "output_type": "execute_result"
    }
   ],
   "source": [
    "train = pd.read_csv('./data/rawdata/application_train.csv.zip',compression='zip')\n",
    "test = pd.read_csv('./data/rawdata/application_test.csv.zip',compression='zip')\n",
    "\n",
    "train.shape, test.shape"
   ]
  },
  {
   "cell_type": "code",
   "execution_count": 3,
   "metadata": {},
   "outputs": [
    {
     "data": {
      "text/plain": [
       "((307511, 152), (48744, 151))"
      ]
     },
     "execution_count": 3,
     "metadata": {},
     "output_type": "execute_result"
    }
   ],
   "source": [
    "#  add features from other source\n",
    "bureau_features = pd.read_csv('./data/rawdata/bureau_feature.csv')\n",
    "bureau_features.columns = ['bureau_' + re.sub(',|:| ','_',c) if c != 'SK_ID_CURR' else c for c in bureau_features.columns]\n",
    "\n",
    "train = train.merge(bureau_features,how='left',on='SK_ID_CURR')\n",
    "test = test.merge(bureau_features,how='left',on='SK_ID_CURR')\n",
    "del bureau_features\n",
    "train.shape, test.shape"
   ]
  },
  {
   "cell_type": "code",
   "execution_count": 4,
   "metadata": {},
   "outputs": [
    {
     "data": {
      "text/plain": [
       "((307511, 169), (48744, 168))"
      ]
     },
     "execution_count": 4,
     "metadata": {},
     "output_type": "execute_result"
    }
   ],
   "source": [
    "#  add features from other source\n",
    "cash_features = pd.read_csv('./data/rawdata/cash_features.csv')\n",
    "cash_features.columns = ['cash_' + re.sub(',|:| ','_',c) if c != 'SK_ID_CURR' else c for c in cash_features.columns]\n",
    "\n",
    "train = train.merge(cash_features,how='left',on='SK_ID_CURR')\n",
    "test = test.merge(cash_features,how='left',on='SK_ID_CURR')\n",
    "del cash_features\n",
    "train.shape, test.shape"
   ]
  },
  {
   "cell_type": "code",
   "execution_count": 5,
   "metadata": {},
   "outputs": [
    {
     "data": {
      "text/plain": [
       "((307511, 240), (48744, 239))"
      ]
     },
     "execution_count": 5,
     "metadata": {},
     "output_type": "execute_result"
    }
   ],
   "source": [
    "#  add features from other source\n",
    "credit_features = pd.read_csv('./data/rawdata/credit_features.csv')\n",
    "credit_features.columns = ['credit_' + re.sub(',|:| ','_',c) if c != 'SK_ID_CURR' else c for c in credit_features.columns]\n",
    "\n",
    "train = train.merge(credit_features,how='left',on='SK_ID_CURR')\n",
    "test = test.merge(credit_features,how='left',on='SK_ID_CURR')\n",
    "\n",
    "del credit_features\n",
    "train.shape, test.shape"
   ]
  },
  {
   "cell_type": "code",
   "execution_count": 6,
   "metadata": {},
   "outputs": [
    {
     "data": {
      "text/plain": [
       "((307511, 284), (48744, 283))"
      ]
     },
     "execution_count": 6,
     "metadata": {},
     "output_type": "execute_result"
    }
   ],
   "source": [
    "#  add features from other source\n",
    "installment_features = pd.read_csv('./data/rawdata/installment_features.csv')\n",
    "installment_features.columns = ['installment_' + re.sub(',|:| ','_',c) if c != 'SK_ID_CURR' else c for c in installment_features.columns]\n",
    "\n",
    "train = train.merge(installment_features,how='left',on='SK_ID_CURR')\n",
    "test = test.merge(installment_features,how='left',on='SK_ID_CURR')\n",
    "\n",
    "del installment_features\n",
    "train.shape, test.shape"
   ]
  },
  {
   "cell_type": "code",
   "execution_count": 7,
   "metadata": {},
   "outputs": [
    {
     "data": {
      "text/plain": [
       "((307511, 483), (48744, 482))"
      ]
     },
     "execution_count": 7,
     "metadata": {},
     "output_type": "execute_result"
    }
   ],
   "source": [
    "#  add features from other source\n",
    "only_prev_features = pd.read_csv('./data/rawdata/only_prev_features.csv')\n",
    "only_prev_features.columns = ['prev_' + re.sub(',|:| ','_',c) if c != 'SK_ID_CURR' else c for c in only_prev_features.columns]\n",
    "\n",
    "train = train.merge(only_prev_features,how='left',on='SK_ID_CURR')\n",
    "test = test.merge(only_prev_features,how='left',on='SK_ID_CURR')\n",
    "\n",
    "del only_prev_features\n",
    "train.shape, test.shape"
   ]
  },
  {
   "cell_type": "code",
   "execution_count": 8,
   "metadata": {
    "collapsed": true
   },
   "outputs": [],
   "source": [
    "def duplicate_columns(df, return_dataframe = False, verbose = False):\n",
    "    '''\n",
    "        a function to detect and possibly remove duplicated columns for a pandas dataframe\n",
    "    '''\n",
    "    from pandas.core.common import array_equivalent\n",
    "    # group columns by dtypes, only the columns of the same dtypes can be duplicate of each other\n",
    "    groups = df.columns.to_series().groupby(df.dtypes).groups\n",
    "    duplicated_columns = []\n",
    "\n",
    "    for dtype, col_names in groups.items():\n",
    "        column_values = df[col_names]\n",
    "        num_columns = len(col_names)\n",
    "\n",
    "        # find duplicated columns by checking pairs of columns, store first column name if duplicate exist \n",
    "        for i in range(num_columns):\n",
    "            column_i = column_values.iloc[:,i].values\n",
    "            for j in range(i + 1, num_columns):\n",
    "                column_j = column_values.iloc[:,j].values\n",
    "                if array_equivalent(column_i, column_j):\n",
    "                    if verbose: \n",
    "                        print(\"column {} is a duplicate of column {}\".format(col_names[i], col_names[j]))\n",
    "                    duplicated_columns.append(col_names[i])\n",
    "                    break\n",
    "    if not return_dataframe:\n",
    "        # return the column names of those duplicated exists\n",
    "        return duplicated_columns\n",
    "    else:\n",
    "        # return a dataframe with duplicated columns dropped \n",
    "        return df.drop(labels = duplicated_columns, axis = 1)"
   ]
  },
  {
   "cell_type": "code",
   "execution_count": 9,
   "metadata": {},
   "outputs": [
    {
     "name": "stderr",
     "output_type": "stream",
     "text": [
      "/Users/LGB/anaconda/lib/python3.6/site-packages/ipykernel_launcher.py:19: DeprecationWarning: 'pandas.core.common.array_equivalent' is deprecated and is no longer public API\n"
     ]
    },
    {
     "name": "stdout",
     "output_type": "stream",
     "text": [
      "column prev_NAME_CONTRACT_STATUS_Unused_offer is a duplicate of column prev_CODE_REJECT_REASON_CLIENT\n"
     ]
    },
    {
     "data": {
      "text/plain": [
       "(307511, 482)"
      ]
     },
     "execution_count": 9,
     "metadata": {},
     "output_type": "execute_result"
    }
   ],
   "source": [
    "train_s = duplicate_columns(train, return_dataframe=True,verbose = True)\n",
    "train_s.shape"
   ]
  },
  {
   "cell_type": "code",
   "execution_count": 10,
   "metadata": {
    "collapsed": true
   },
   "outputs": [],
   "source": [
    "feature_dict = {'NAME_CONTRACT_TYPE':'category_features', 'CODE_GENDER':'category_features', 'FLAG_OWN_CAR':'boolean_features', 'FLAG_OWN_REALTY':'boolean_features', 'CNT_CHILDREN':'count_features', 'AMT_INCOME_TOTAL':'amount_feautres', 'AMT_CREDIT':'amount_feautres', 'AMT_ANNUITY':'amount_feautres', 'AMT_GOODS_PRICE':'amount_feautres', 'NAME_TYPE_SUITE':'category_features', 'NAME_INCOME_TYPE':'category_features', 'NAME_EDUCATION_TYPE':'category_features', 'NAME_FAMILY_STATUS':'category_features', 'NAME_HOUSING_TYPE':'category_features', 'REGION_POPULATION_RELATIVE':'normal_features', 'DAYS_BIRTH':'amount_feautres', 'DAYS_EMPLOYED':'amount_feautres', 'DAYS_REGISTRATION':'amount_feautres', 'DAYS_ID_PUBLISH':'amount_feautres', 'OWN_CAR_AGE':'amount_feautres', 'FLAG_MOBIL':'boolean_features', 'FLAG_EMP_PHONE':'boolean_features', 'FLAG_WORK_PHONE':'boolean_features', 'FLAG_CONT_MOBILE':'boolean_features', 'FLAG_PHONE':'boolean_features', 'FLAG_EMAIL':'boolean_features', 'OCCUPATION_TYPE':'category_features', 'CNT_FAM_MEMBERS':'count_features', 'REGION_RATING_CLIENT':'category_features', 'REGION_RATING_CLIENT_W_CITY':'category_features', 'WEEKDAY_APPR_PROCESS_START':'category_features', 'HOUR_APPR_PROCESS_START':'category_features', 'REG_REGION_NOT_LIVE_REGION':'boolean_features', 'REG_REGION_NOT_WORK_REGION':'boolean_features', 'LIVE_REGION_NOT_WORK_REGION':'boolean_features', 'REG_CITY_NOT_LIVE_CITY':'boolean_features', 'REG_CITY_NOT_WORK_CITY':'boolean_features', 'LIVE_CITY_NOT_WORK_CITY':'boolean_features', 'ORGANIZATION_TYPE':'category_features', 'EXT_SOURCE_1':'normal_features', 'EXT_SOURCE_2':'normal_features', 'EXT_SOURCE_3':'normal_features', 'APARTMENTS_AVG':'normal_features', 'BASEMENTAREA_AVG':'normal_features', 'YEARS_BEGINEXPLUATATION_AVG':'normal_features', 'YEARS_BUILD_AVG':'normal_features', 'COMMONAREA_AVG':'normal_features', 'ELEVATORS_AVG':'normal_features', 'ENTRANCES_AVG':'normal_features', 'FLOORSMAX_AVG':'normal_features', 'FLOORSMIN_AVG':'normal_features', 'LANDAREA_AVG':'normal_features', 'LIVINGAPARTMENTS_AVG':'normal_features', 'LIVINGAREA_AVG':'normal_features', 'NONLIVINGAPARTMENTS_AVG':'normal_features', 'NONLIVINGAREA_AVG':'normal_features', 'APARTMENTS_MODE':'normal_features', 'BASEMENTAREA_MODE':'normal_features', 'YEARS_BEGINEXPLUATATION_MODE':'normal_features', 'YEARS_BUILD_MODE':'normal_features', 'COMMONAREA_MODE':'normal_features', 'ELEVATORS_MODE':'normal_features', 'ENTRANCES_MODE':'normal_features', 'FLOORSMAX_MODE':'normal_features', 'FLOORSMIN_MODE':'normal_features', 'LANDAREA_MODE':'normal_features', 'LIVINGAPARTMENTS_MODE':'normal_features', 'LIVINGAREA_MODE':'normal_features', 'NONLIVINGAPARTMENTS_MODE':'normal_features', 'NONLIVINGAREA_MODE':'normal_features', 'APARTMENTS_MEDI':'normal_features', 'BASEMENTAREA_MEDI':'normal_features', 'YEARS_BEGINEXPLUATATION_MEDI':'normal_features', 'YEARS_BUILD_MEDI':'normal_features', 'COMMONAREA_MEDI':'normal_features', 'ELEVATORS_MEDI':'normal_features', 'ENTRANCES_MEDI':'normal_features', 'FLOORSMAX_MEDI':'normal_features', 'FLOORSMIN_MEDI':'normal_features', 'LANDAREA_MEDI':'normal_features', 'LIVINGAPARTMENTS_MEDI':'normal_features', 'LIVINGAREA_MEDI':'normal_features', 'NONLIVINGAPARTMENTS_MEDI':'normal_features', 'NONLIVINGAREA_MEDI':'normal_features', 'FONDKAPREMONT_MODE':'category_features', 'HOUSETYPE_MODE':'category_features', 'TOTALAREA_MODE':'normal_features', 'WALLSMATERIAL_MODE':'category_features', 'EMERGENCYSTATE_MODE':'category_features', 'OBS_30_CNT_SOCIAL_CIRCLE':'count_features', 'DEF_30_CNT_SOCIAL_CIRCLE':'count_features', 'OBS_60_CNT_SOCIAL_CIRCLE':'count_features', 'DEF_60_CNT_SOCIAL_CIRCLE':'count_features', 'DAYS_LAST_PHONE_CHANGE':'count_features', 'FLAG_DOCUMENT_2':'boolean_features', 'FLAG_DOCUMENT_3':'boolean_features', 'FLAG_DOCUMENT_4':'boolean_features', 'FLAG_DOCUMENT_5':'boolean_features', 'FLAG_DOCUMENT_6':'boolean_features', 'FLAG_DOCUMENT_7':'boolean_features', 'FLAG_DOCUMENT_8':'boolean_features', 'FLAG_DOCUMENT_9':'boolean_features', 'FLAG_DOCUMENT_10':'boolean_features', 'FLAG_DOCUMENT_11':'boolean_features', 'FLAG_DOCUMENT_12':'boolean_features', 'FLAG_DOCUMENT_13':'boolean_features', 'FLAG_DOCUMENT_14':'boolean_features', 'FLAG_DOCUMENT_15':'boolean_features', 'FLAG_DOCUMENT_16':'boolean_features', 'FLAG_DOCUMENT_17':'boolean_features', 'FLAG_DOCUMENT_18':'boolean_features', 'FLAG_DOCUMENT_19':'boolean_features', 'FLAG_DOCUMENT_20':'boolean_features', 'FLAG_DOCUMENT_21':'boolean_features', 'AMT_REQ_CREDIT_BUREAU_HOUR':'count_features', 'AMT_REQ_CREDIT_BUREAU_DAY':'count_features', 'AMT_REQ_CREDIT_BUREAU_WEEK':'count_features', 'AMT_REQ_CREDIT_BUREAU_MON':'count_features', 'AMT_REQ_CREDIT_BUREAU_QRT':'count_features', 'AMT_REQ_CREDIT_BUREAU_YEAR':'count_features',\n",
    "                'bureau_bureau_cnt':'count_features', 'bureau_CREDIT_DAY_OVERDUE_sum':'amount_feautres', 'bureau_DAYS_CREDIT_ENDDATE_sum':'amount_feautres', 'bureau_DAYS_ENDDATE_FACT_sum':'amount_feautres', 'bureau_DAYS_CREDIT_sum':'amount_feautres', 'bureau_DAYS_CREDIT_UPDATE_sum':'amount_feautres', 'bureau_CNT_CREDIT_PROLONG_sum':'amount_feautres', 'bureau_AMT_CREDIT_SUM_sum':'amount_feautres', 'bureau_AMT_ANNUITY_sum':'amount_feautres', 'bureau_AMT_CREDIT_SUM_DEBT_sum':'amount_feautres', 'bureau_AMT_CREDIT_SUM_LIMIT_sum':'amount_feautres', 'bureau_AMT_CREDIT_MAX_OVERDUE_sum':'amount_feautres', 'bureau_MONTHS_BALANCE_max_sum':'amount_feautres', 'bureau_MONTHS_BALANCE_cnt_sum':'amount_feautres', 'bureau_STATUS_cntd_sum':'amount_feautres', 'bureau_AMT_CREDIT_MAX_OVERDUE_max':'amount_feautres', 'bureau_CNT_CREDIT_PROLONG_max':'amount_feautres', 'bureau_DAYS_CREDIT_max':'amount_feautres', 'bureau_MONTHS_BALANCE_max_max':'amount_feautres', 'bureau_STATUS_cntd_max':'amount_feautres', 'bureau_CREDIT_CURRENCY_cnt':'amount_feautres', 'bureau_CREDIT_ACTIVE_cnt':'amount_feautres', 'bureau_CREDIT_TYPE_cnt':'amount_feautres', 'bureau_STATUS_set_cnt':'amount_feautres', 'bureau_latest_STATUS_cnt':'amount_feautres', 'bureau_CREDIT_CURRENCY_set':'category_features', 'bureau_CREDIT_ACTIVE_set':'category_features', 'bureau_CREDIT_TYPE_set':'category_features', 'bureau_latest_STATUS_set':'category_features', 'bureau_STATUS_set':'category_features',\n",
    "                'cash_MONTHS_BALANCE_min':'count_features', 'cash_MONTHS_BALANCE_max':'count_features', 'cash_MONTHS_BALANCE_cnt':'count_features', 'cash_CNT_INSTALMENT_min':'count_features', 'cash_CNT_INSTALMENT_max':'count_features', 'cash_CNT_INSTALMENT_set':'category_features', 'cash_CNT_INSTALMENT_FUTURE_min':'count_features', 'cash_CNT_INSTALMENT_FUTURE_max':'count_features', 'cash_NAME_CONTRACT_STATUS_cntd':'count_features', 'cash_NAME_CONTRACT_STATUS_set':'category_features', 'cash_NAME_CONTRACT_STATUS_latest':'category_features', 'cash_SK_DPD_max':'count_features', 'cash_SK_DPD_cnt0':'count_features', 'cash_SK_DPD_DEF_max':'count_features', 'cash_SK_DPD_DEF_cnt0':'count_features', 'cash_SK_DPD_diff_max':'count_features', 'cash_SK_DPD_diff_cnt0':'count_features',\n",
    "               'prev_PREV_cnt':'count_features', 'prev_AMT_DOWN_PAYMENT_cnt_negative':'count_features', 'prev_AMT_DOWN_PAYMENT_cnt_positive':'count_features', 'prev_HOUR_APPR_PROCESS_START_median':'count_features', 'prev_FLAG_LAST_APPL_PER_CONTRACT_1':'boolean_features', 'prev_NFLAG_LAST_APPL_IN_DAY_1':'boolean_features', 'prev_NFLAG_INSURED_ON_APPROVAL':'boolean_features', 'prev_NAME_CONTRACT_STATUS_Approved':'boolean_features', 'prev_NAME_CONTRACT_STATUS_Canceled':'boolean_features', 'prev_NAME_CONTRACT_STATUS_Refused':'boolean_features', 'prev_NAME_CONTRACT_STATUS_Unused_offer':'boolean_features', 'prev_NAME_PAYMENT_TYPE_Cash_through_the_bank':'boolean_features', 'prev_NAME_PAYMENT_TYPE_Cashless_from_the_account_of_the_employer':'boolean_features', 'prev_NAME_PAYMENT_TYPE_Non-cash_from_your_account':'boolean_features', 'prev_NAME_PAYMENT_TYPE_XNA':'boolean_features', 'prev_CODE_REJECT_REASON_CLIENT':'boolean_features', 'prev_CODE_REJECT_REASON_HC':'boolean_features', 'prev_CODE_REJECT_REASON_LIMIT':'boolean_features', 'prev_CODE_REJECT_REASON_SCO':'boolean_features', 'prev_CODE_REJECT_REASON_SCOFR':'boolean_features', 'prev_CODE_REJECT_REASON_SYSTEM':'boolean_features', 'prev_CODE_REJECT_REASON_VERIF':'boolean_features', 'prev_CODE_REJECT_REASON_XAP':'boolean_features', 'prev_CODE_REJECT_REASON_XNA':'boolean_features', 'prev_NAME_TYPE_SUITE_Children':'boolean_features', 'prev_NAME_TYPE_SUITE_Family':'boolean_features', 'prev_NAME_TYPE_SUITE_Group_of_people':'boolean_features', 'prev_NAME_TYPE_SUITE_Other_A':'boolean_features', 'prev_NAME_TYPE_SUITE_Other_B':'boolean_features', 'prev_NAME_TYPE_SUITE_Spouse__partner':'boolean_features', 'prev_NAME_TYPE_SUITE_Unaccompanied':'boolean_features', 'prev_NAME_CLIENT_TYPE_New':'boolean_features', 'prev_NAME_CLIENT_TYPE_Refreshed':'boolean_features', 'prev_NAME_CLIENT_TYPE_Repeater':'boolean_features', 'prev_NAME_CLIENT_TYPE_XNA':'boolean_features', 'prev_NAME_PORTFOLIO_Cards':'boolean_features', 'prev_NAME_PORTFOLIO_Cars':'boolean_features', 'prev_NAME_PORTFOLIO_Cash':'boolean_features', 'prev_NAME_PORTFOLIO_POS':'boolean_features', 'prev_NAME_PORTFOLIO_XNA':'boolean_features', 'prev_NAME_PRODUCT_TYPE_XNA':'boolean_features', 'prev_NAME_PRODUCT_TYPE_walk-in':'boolean_features', 'prev_NAME_PRODUCT_TYPE_x-sell':'boolean_features', 'prev_CHANNEL_TYPE_AP+_(Cash_loan)':'boolean_features', 'prev_CHANNEL_TYPE_Car_dealer':'boolean_features', 'prev_CHANNEL_TYPE_Channel_of_corporate_sales':'boolean_features', 'prev_CHANNEL_TYPE_Contact_center':'boolean_features', 'prev_CHANNEL_TYPE_Country-wide':'boolean_features', 'prev_CHANNEL_TYPE_Credit_and_cash_offices':'boolean_features', 'prev_CHANNEL_TYPE_Regional_/_Local':'boolean_features', 'prev_CHANNEL_TYPE_Stone':'boolean_features', 'prev_NAME_SELLER_INDUSTRY_Auto_technology':'boolean_features', 'prev_NAME_SELLER_INDUSTRY_Clothing':'boolean_features', 'prev_NAME_SELLER_INDUSTRY_Connectivity':'boolean_features', 'prev_NAME_SELLER_INDUSTRY_Construction':'boolean_features', 'prev_NAME_SELLER_INDUSTRY_Consumer_electronics':'boolean_features', 'prev_NAME_SELLER_INDUSTRY_Furniture':'boolean_features', 'prev_NAME_SELLER_INDUSTRY_Industry':'boolean_features', 'prev_NAME_SELLER_INDUSTRY_Jewelry':'boolean_features', 'prev_NAME_SELLER_INDUSTRY_MLM_partners':'boolean_features', 'prev_NAME_SELLER_INDUSTRY_Tourism':'boolean_features', 'prev_NAME_SELLER_INDUSTRY_XNA':'boolean_features', 'prev_NAME_YIELD_GROUP_XNA':'boolean_features', 'prev_NAME_YIELD_GROUP_high':'boolean_features', 'prev_NAME_YIELD_GROUP_low_action':'boolean_features', 'prev_NAME_YIELD_GROUP_low_normal':'boolean_features', 'prev_NAME_YIELD_GROUP_middle':'boolean_features', 'prev_PRODUCT_COMBINATION_Card_Street':'boolean_features', 'prev_PRODUCT_COMBINATION_Card_X-Sell':'boolean_features', 'prev_PRODUCT_COMBINATION_Cash':'boolean_features', 'prev_PRODUCT_COMBINATION_Cash_Street__high':'boolean_features', 'prev_PRODUCT_COMBINATION_Cash_Street__low':'boolean_features', 'prev_PRODUCT_COMBINATION_Cash_Street__middle':'boolean_features', 'prev_PRODUCT_COMBINATION_Cash_X-Sell__high':'boolean_features', 'prev_PRODUCT_COMBINATION_Cash_X-Sell__low':'boolean_features', 'prev_PRODUCT_COMBINATION_Cash_X-Sell__middle':'boolean_features', 'prev_PRODUCT_COMBINATION_POS_household_with_interest':'boolean_features', 'prev_PRODUCT_COMBINATION_POS_household_without_interest':'boolean_features', 'prev_PRODUCT_COMBINATION_POS_industry_with_interest':'boolean_features', 'prev_PRODUCT_COMBINATION_POS_industry_without_interest':'boolean_features', 'prev_PRODUCT_COMBINATION_POS_mobile_with_interest':'boolean_features', 'prev_PRODUCT_COMBINATION_POS_mobile_without_interest':'boolean_features', 'prev_PRODUCT_COMBINATION_POS_other_with_interest':'boolean_features', 'prev_PRODUCT_COMBINATION_POS_others_without_interest':'boolean_features', 'prev_RATE_DOWN_PAYMENT_min':'normal_features', 'prev_RATE_DOWN_PAYMENT_max':'normal_features', 'prev_RATE_DOWN_PAYMENT_mean':'normal_features', 'prev_RATE_DOWN_PAYMENT_median':'normal_features', 'prev_RATE_DOWN_PAYMENT_latest':'normal_features', 'prev_RATE_INTEREST_PRIMARY_min':'normal_features', 'prev_RATE_INTEREST_PRIMARY_max':'normal_features', 'prev_RATE_INTEREST_PRIMARY_mean':'normal_features', 'prev_RATE_INTEREST_PRIMARY_median':'normal_features', 'prev_RATE_INTEREST_PRIMARY_latest':'normal_features', 'prev_RATE_INTEREST_PRIVILEGED_min':'normal_features', 'prev_RATE_INTEREST_PRIVILEGED_max':'normal_features', 'prev_RATE_INTEREST_PRIVILEGED_mean':'normal_features', 'prev_RATE_INTEREST_PRIVILEGED_median':'normal_features', 'prev_RATE_INTEREST_PRIVILEGED_latest':'normal_features', 'prev_DAYS_DECISION_min':'amount_feautres', 'prev_DAYS_DECISION_max':'amount_feautres', 'prev_DAYS_DECISION_mean':'amount_feautres', 'prev_DAYS_DECISION_median':'amount_feautres', 'prev_DAYS_DECISION_latest':'amount_feautres', 'prev_SELLERPLACE_AREA_min':'amount_feautres', 'prev_SELLERPLACE_AREA_max':'amount_feautres', 'prev_SELLERPLACE_AREA_mean':'amount_feautres', 'prev_SELLERPLACE_AREA_median':'amount_feautres', 'prev_SELLERPLACE_AREA_latest':'amount_feautres', 'prev_DAYS_FIRST_DRAWING_min':'amount_feautres', 'prev_DAYS_FIRST_DRAWING_max':'amount_feautres', 'prev_DAYS_FIRST_DRAWING_mean':'amount_feautres', 'prev_DAYS_FIRST_DRAWING_median':'amount_feautres', 'prev_DAYS_FIRST_DRAWING_latest':'amount_feautres', 'prev_DAYS_FIRST_DUE_min':'amount_feautres', 'prev_DAYS_FIRST_DUE_max':'amount_feautres', 'prev_DAYS_FIRST_DUE_mean':'amount_feautres', 'prev_DAYS_FIRST_DUE_median':'amount_feautres', 'prev_DAYS_FIRST_DUE_latest':'amount_feautres', 'prev_DAYS_LAST_DUE_1ST_VERSION_min':'amount_feautres', 'prev_DAYS_LAST_DUE_1ST_VERSION_max':'amount_feautres', 'prev_DAYS_LAST_DUE_1ST_VERSION_mean':'amount_feautres', 'prev_DAYS_LAST_DUE_1ST_VERSION_median':'amount_feautres', 'prev_DAYS_LAST_DUE_1ST_VERSION_latest':'amount_feautres', 'prev_DAYS_LAST_DUE_min':'amount_feautres', 'prev_DAYS_LAST_DUE_max':'amount_feautres', 'prev_DAYS_LAST_DUE_mean':'amount_feautres', 'prev_DAYS_LAST_DUE_median':'amount_feautres', 'prev_DAYS_LAST_DUE_latest':'amount_feautres', 'prev_DAYS_TERMINATION_min':'amount_feautres', 'prev_DAYS_TERMINATION_max':'amount_feautres', 'prev_DAYS_TERMINATION_mean':'amount_feautres', 'prev_DAYS_TERMINATION_median':'amount_feautres', 'prev_DAYS_TERMINATION_latest':'amount_feautres', 'prev_cash_MONTHS_BALANCE_min_min':'count_features', 'prev_cash_MONTHS_BALANCE_min_max':'count_features', 'prev_cash_MONTHS_BALANCE_min_mean':'count_features', 'prev_cash_MONTHS_BALANCE_min_median':'count_features', 'prev_cash_MONTHS_BALANCE_min_latest':'count_features', 'prev_cash_MONTHS_BALANCE_max_min':'count_features', 'prev_cash_MONTHS_BALANCE_max_max':'count_features', 'prev_cash_MONTHS_BALANCE_max_mean':'count_features', 'prev_cash_MONTHS_BALANCE_max_median':'count_features', 'prev_cash_MONTHS_BALANCE_max_latest':'count_features', 'prev_cash_MONTHS_BALANCE_cnt_min':'count_features', 'prev_cash_MONTHS_BALANCE_cnt_max':'count_features', 'prev_cash_MONTHS_BALANCE_cnt_mean':'count_features', 'prev_cash_MONTHS_BALANCE_cnt_median':'count_features', 'prev_cash_MONTHS_BALANCE_cnt_latest':'count_features', 'prev_cash_CNT_INSTALMENT_min_min':'count_features', 'prev_cash_CNT_INSTALMENT_min_max':'count_features', 'prev_cash_CNT_INSTALMENT_min_mean':'count_features', 'prev_cash_CNT_INSTALMENT_min_median':'count_features', 'prev_cash_CNT_INSTALMENT_min_latest':'count_features', 'prev_cash_CNT_INSTALMENT_max_min':'count_features', 'prev_cash_CNT_INSTALMENT_max_max':'count_features', 'prev_cash_CNT_INSTALMENT_max_mean':'count_features', 'prev_cash_CNT_INSTALMENT_max_median':'count_features', 'prev_cash_CNT_INSTALMENT_max_latest':'count_features', 'prev_cash_CNT_INSTALMENT_FUTURE_min_min':'count_features', 'prev_cash_CNT_INSTALMENT_FUTURE_min_max':'count_features', 'prev_cash_CNT_INSTALMENT_FUTURE_min_mean':'count_features', 'prev_cash_CNT_INSTALMENT_FUTURE_min_median':'count_features', 'prev_cash_CNT_INSTALMENT_FUTURE_min_latest':'count_features', 'prev_cash_CNT_INSTALMENT_FUTURE_max_min':'count_features', 'prev_cash_CNT_INSTALMENT_FUTURE_max_max':'count_features', 'prev_cash_CNT_INSTALMENT_FUTURE_max_mean':'count_features', 'prev_cash_CNT_INSTALMENT_FUTURE_max_median':'count_features', 'prev_cash_CNT_INSTALMENT_FUTURE_max_latest':'count_features', 'prev_cash_NAME_CONTRACT_STATUS_cntd_min':'count_features', 'prev_cash_NAME_CONTRACT_STATUS_cntd_max':'count_features', 'prev_cash_NAME_CONTRACT_STATUS_cntd_mean':'count_features', 'prev_cash_NAME_CONTRACT_STATUS_cntd_median':'count_features', 'prev_cash_NAME_CONTRACT_STATUS_cntd_latest':'count_features', 'prev_cash_SK_DPD_max_min':'count_features', 'prev_cash_SK_DPD_max_max':'count_features', 'prev_cash_SK_DPD_max_mean':'count_features', 'prev_cash_SK_DPD_max_median':'count_features', 'prev_cash_SK_DPD_max_latest':'count_features', 'prev_cash_SK_DPD_cnt0_min':'count_features', 'prev_cash_SK_DPD_cnt0_max':'count_features', 'prev_cash_SK_DPD_cnt0_mean':'count_features', 'prev_cash_SK_DPD_cnt0_median':'count_features', 'prev_cash_SK_DPD_cnt0_latest':'count_features', 'prev_cash_SK_DPD_DEF_max_min':'count_features', 'prev_cash_SK_DPD_DEF_max_max':'count_features', 'prev_cash_SK_DPD_DEF_max_mean':'count_features', 'prev_cash_SK_DPD_DEF_max_median':'count_features', 'prev_cash_SK_DPD_DEF_max_latest':'count_features', 'prev_cash_SK_DPD_DEF_cnt0_min':'count_features', 'prev_cash_SK_DPD_DEF_cnt0_max':'count_features', 'prev_cash_SK_DPD_DEF_cnt0_mean':'count_features', 'prev_cash_SK_DPD_DEF_cnt0_median':'count_features', 'prev_cash_SK_DPD_DEF_cnt0_latest':'count_features', 'prev_cash_SK_DPD_diff_max_min':'count_features', 'prev_cash_SK_DPD_diff_max_max':'count_features', 'prev_cash_SK_DPD_diff_max_mean':'count_features', 'prev_cash_SK_DPD_diff_max_median':'count_features', 'prev_cash_SK_DPD_diff_max_latest':'count_features', 'prev_cash_SK_DPD_diff_cnt0_min':'count_features', 'prev_cash_SK_DPD_diff_cnt0_max':'count_features', 'prev_cash_SK_DPD_diff_cnt0_mean':'count_features', 'prev_cash_SK_DPD_diff_cnt0_median':'count_features', 'prev_cash_SK_DPD_diff_cnt0_latest':'count_features', 'prev_credit_MONTHS_BALANCE_min_min':'count_features', 'prev_credit_MONTHS_BALANCE_min_max':'count_features', 'prev_credit_MONTHS_BALANCE_min_mean':'count_features', 'prev_credit_MONTHS_BALANCE_min_median':'count_features', 'prev_credit_MONTHS_BALANCE_min_latest':'count_features', 'prev_credit_MONTHS_BALANCE_max_min':'count_features', 'prev_credit_MONTHS_BALANCE_max_max':'count_features', 'prev_credit_MONTHS_BALANCE_max_mean':'count_features', 'prev_credit_MONTHS_BALANCE_max_median':'count_features', 'prev_credit_MONTHS_BALANCE_max_latest':'count_features', 'prev_credit_MONTHS_BALANCE_count_min':'count_features', 'prev_credit_MONTHS_BALANCE_count_max':'count_features', 'prev_credit_MONTHS_BALANCE_count_mean':'count_features', 'prev_credit_MONTHS_BALANCE_count_median':'count_features', 'prev_credit_MONTHS_BALANCE_count_latest':'count_features', 'prev_credit_AMT_BALANCE_min_min':'amount_feautres', 'prev_credit_AMT_BALANCE_min_max':'amount_feautres', 'prev_credit_AMT_BALANCE_min_mean':'amount_feautres', 'prev_credit_AMT_BALANCE_min_median':'amount_feautres', 'prev_credit_AMT_BALANCE_min_latest':'amount_feautres', 'prev_credit_AMT_BALANCE_max_min':'amount_feautres', 'prev_credit_AMT_BALANCE_max_max':'amount_feautres', 'prev_credit_AMT_BALANCE_max_mean':'amount_feautres', 'prev_credit_AMT_BALANCE_max_median':'amount_feautres', 'prev_credit_AMT_BALANCE_max_latest':'amount_feautres', 'prev_credit_AMT_BALANCE_sum_min':'amount_feautres', 'prev_credit_AMT_BALANCE_sum_max':'amount_feautres', 'prev_credit_AMT_BALANCE_sum_mean':'amount_feautres', 'prev_credit_AMT_BALANCE_sum_median':'amount_feautres', 'prev_credit_AMT_BALANCE_sum_latest':'amount_feautres', 'prev_credit_AMT_BALANCE_mean_min':'amount_feautres', 'prev_credit_AMT_BALANCE_mean_max':'amount_feautres', 'prev_credit_AMT_BALANCE_mean_mean':'amount_feautres', 'prev_credit_AMT_BALANCE_mean_median':'amount_feautres', 'prev_credit_AMT_BALANCE_mean_latest':'amount_feautres', 'prev_credit_AMT_BALANCE_size_min':'count_features', 'prev_credit_AMT_BALANCE_size_max':'count_features', 'prev_credit_AMT_BALANCE_size_mean':'count_features', 'prev_credit_AMT_BALANCE_size_median':'count_features', 'prev_credit_AMT_BALANCE_size_latest':'count_features', 'prev_credit_AMT_CREDIT_LIMIT_ACTUAL_min_min':'amount_feautres', 'prev_credit_AMT_CREDIT_LIMIT_ACTUAL_min_max':'amount_feautres', 'prev_credit_AMT_CREDIT_LIMIT_ACTUAL_min_mean':'amount_feautres', 'prev_credit_AMT_CREDIT_LIMIT_ACTUAL_min_median':'amount_feautres', 'prev_credit_AMT_CREDIT_LIMIT_ACTUAL_min_latest':'amount_feautres', 'prev_credit_AMT_CREDIT_LIMIT_ACTUAL_max_min':'amount_feautres', 'prev_credit_AMT_CREDIT_LIMIT_ACTUAL_max_max':'amount_feautres', 'prev_credit_AMT_CREDIT_LIMIT_ACTUAL_max_mean':'amount_feautres', 'prev_credit_AMT_CREDIT_LIMIT_ACTUAL_max_median':'amount_feautres', 'prev_credit_AMT_CREDIT_LIMIT_ACTUAL_max_latest':'amount_feautres', 'prev_credit_AMT_DRAWINGS_ATM_CURRENT_min_min':'amount_feautres', 'prev_credit_AMT_DRAWINGS_ATM_CURRENT_min_max':'amount_feautres', 'prev_credit_AMT_DRAWINGS_ATM_CURRENT_min_mean':'amount_feautres', 'prev_credit_AMT_DRAWINGS_ATM_CURRENT_min_median':'amount_feautres', 'prev_credit_AMT_DRAWINGS_ATM_CURRENT_min_latest':'amount_feautres', 'prev_credit_AMT_DRAWINGS_ATM_CURRENT_size_min':'count_features', 'prev_credit_AMT_DRAWINGS_ATM_CURRENT_size_max':'count_features', 'prev_credit_AMT_DRAWINGS_ATM_CURRENT_size_mean':'count_features', 'prev_credit_AMT_DRAWINGS_ATM_CURRENT_size_median':'count_features', 'prev_credit_AMT_DRAWINGS_ATM_CURRENT_size_latest':'count_features', 'prev_credit_AMT_DRAWINGS_ATM_CURRENT_mean_min':'amount_feautres', 'prev_credit_AMT_DRAWINGS_ATM_CURRENT_mean_max':'amount_feautres', 'prev_credit_AMT_DRAWINGS_ATM_CURRENT_mean_mean':'amount_feautres', 'prev_credit_AMT_DRAWINGS_ATM_CURRENT_mean_median':'amount_feautres', 'prev_credit_AMT_DRAWINGS_ATM_CURRENT_mean_latest':'amount_feautres', 'prev_credit_AMT_DRAWINGS_ATM_CURRENT_sum_min':'amount_feautres', 'prev_credit_AMT_DRAWINGS_ATM_CURRENT_sum_max':'amount_feautres', 'prev_credit_AMT_DRAWINGS_ATM_CURRENT_sum_mean':'amount_feautres', 'prev_credit_AMT_DRAWINGS_ATM_CURRENT_sum_median':'amount_feautres', 'prev_credit_AMT_DRAWINGS_ATM_CURRENT_sum_latest':'amount_feautres', 'prev_credit_AMT_DRAWINGS_ATM_CURRENT_max_min':'amount_feautres', 'prev_credit_AMT_DRAWINGS_ATM_CURRENT_max_max':'amount_feautres', 'prev_credit_AMT_DRAWINGS_ATM_CURRENT_max_mean':'amount_feautres', 'prev_credit_AMT_DRAWINGS_ATM_CURRENT_max_median':'amount_feautres', 'prev_credit_AMT_DRAWINGS_ATM_CURRENT_max_latest':'amount_feautres', 'prev_credit_AMT_DRAWINGS_CURRENT_min_min':'amount_feautres', 'prev_credit_AMT_DRAWINGS_CURRENT_min_max':'amount_feautres', 'prev_credit_AMT_DRAWINGS_CURRENT_min_mean':'amount_feautres', 'prev_credit_AMT_DRAWINGS_CURRENT_min_median':'amount_feautres', 'prev_credit_AMT_DRAWINGS_CURRENT_min_latest':'amount_feautres', 'prev_credit_AMT_DRAWINGS_CURRENT_size_min':'count_features', 'prev_credit_AMT_DRAWINGS_CURRENT_size_max':'count_features', 'prev_credit_AMT_DRAWINGS_CURRENT_size_mean':'count_features', 'prev_credit_AMT_DRAWINGS_CURRENT_size_median':'count_features', 'prev_credit_AMT_DRAWINGS_CURRENT_size_latest':'count_features', 'prev_credit_AMT_DRAWINGS_CURRENT_mean_min':'amount_feautres', 'prev_credit_AMT_DRAWINGS_CURRENT_mean_max':'amount_feautres', 'prev_credit_AMT_DRAWINGS_CURRENT_mean_mean':'amount_feautres', 'prev_credit_AMT_DRAWINGS_CURRENT_mean_median':'amount_feautres', 'prev_credit_AMT_DRAWINGS_CURRENT_mean_latest':'amount_feautres', 'prev_credit_AMT_DRAWINGS_CURRENT_sum_min':'amount_feautres', 'prev_credit_AMT_DRAWINGS_CURRENT_sum_max':'amount_feautres', 'prev_credit_AMT_DRAWINGS_CURRENT_sum_mean':'amount_feautres', 'prev_credit_AMT_DRAWINGS_CURRENT_sum_median':'amount_feautres', 'prev_credit_AMT_DRAWINGS_CURRENT_sum_latest':'amount_feautres', 'prev_credit_AMT_DRAWINGS_CURRENT_max_min':'amount_feautres', 'prev_credit_AMT_DRAWINGS_CURRENT_max_max':'amount_feautres', 'prev_credit_AMT_DRAWINGS_CURRENT_max_mean':'amount_feautres', 'prev_credit_AMT_DRAWINGS_CURRENT_max_median':'amount_feautres', 'prev_credit_AMT_DRAWINGS_CURRENT_max_latest':'amount_feautres', 'prev_credit_AMT_DRAWINGS_OTHER_CURRENT_min_min':'amount_feautres', 'prev_credit_AMT_DRAWINGS_OTHER_CURRENT_min_max':'amount_feautres', 'prev_credit_AMT_DRAWINGS_OTHER_CURRENT_min_mean':'amount_feautres', 'prev_credit_AMT_DRAWINGS_OTHER_CURRENT_min_median':'amount_feautres', 'prev_credit_AMT_DRAWINGS_OTHER_CURRENT_min_latest':'amount_feautres', 'prev_credit_AMT_DRAWINGS_OTHER_CURRENT_size_min':'count_features', 'prev_credit_AMT_DRAWINGS_OTHER_CURRENT_size_max':'count_features', 'prev_credit_AMT_DRAWINGS_OTHER_CURRENT_size_mean':'count_features', 'prev_credit_AMT_DRAWINGS_OTHER_CURRENT_size_median':'count_features', 'prev_credit_AMT_DRAWINGS_OTHER_CURRENT_size_latest':'count_features', 'prev_credit_AMT_DRAWINGS_OTHER_CURRENT_mean_min':'amount_feautres', 'prev_credit_AMT_DRAWINGS_OTHER_CURRENT_mean_max':'amount_feautres', 'prev_credit_AMT_DRAWINGS_OTHER_CURRENT_mean_mean':'amount_feautres', 'prev_credit_AMT_DRAWINGS_OTHER_CURRENT_mean_median':'amount_feautres', 'prev_credit_AMT_DRAWINGS_OTHER_CURRENT_mean_latest':'amount_feautres', 'prev_credit_AMT_DRAWINGS_OTHER_CURRENT_sum_min':'amount_feautres', 'prev_credit_AMT_DRAWINGS_OTHER_CURRENT_sum_max':'amount_feautres', 'prev_credit_AMT_DRAWINGS_OTHER_CURRENT_sum_mean':'amount_feautres', 'prev_credit_AMT_DRAWINGS_OTHER_CURRENT_sum_median':'amount_feautres', 'prev_credit_AMT_DRAWINGS_OTHER_CURRENT_sum_latest':'amount_feautres', 'prev_credit_AMT_DRAWINGS_OTHER_CURRENT_max_min':'amount_feautres', 'prev_credit_AMT_DRAWINGS_OTHER_CURRENT_max_max':'amount_feautres', 'prev_credit_AMT_DRAWINGS_OTHER_CURRENT_max_mean':'amount_feautres', 'prev_credit_AMT_DRAWINGS_OTHER_CURRENT_max_median':'amount_feautres', 'prev_credit_AMT_DRAWINGS_OTHER_CURRENT_max_latest':'amount_feautres', 'prev_credit_AMT_DRAWINGS_POS_CURRENT_min_min':'amount_feautres', 'prev_credit_AMT_DRAWINGS_POS_CURRENT_min_max':'amount_feautres', 'prev_credit_AMT_DRAWINGS_POS_CURRENT_min_mean':'amount_feautres', 'prev_credit_AMT_DRAWINGS_POS_CURRENT_min_median':'amount_feautres', 'prev_credit_AMT_DRAWINGS_POS_CURRENT_min_latest':'amount_feautres', 'prev_credit_AMT_DRAWINGS_POS_CURRENT_size_min':'count_features', 'prev_credit_AMT_DRAWINGS_POS_CURRENT_size_max':'count_features', 'prev_credit_AMT_DRAWINGS_POS_CURRENT_size_mean':'count_features', 'prev_credit_AMT_DRAWINGS_POS_CURRENT_size_median':'count_features', 'prev_credit_AMT_DRAWINGS_POS_CURRENT_size_latest':'count_features', 'prev_credit_AMT_DRAWINGS_POS_CURRENT_mean_min':'amount_feautres', 'prev_credit_AMT_DRAWINGS_POS_CURRENT_mean_max':'amount_feautres', 'prev_credit_AMT_DRAWINGS_POS_CURRENT_mean_mean':'amount_feautres', 'prev_credit_AMT_DRAWINGS_POS_CURRENT_mean_median':'amount_feautres', 'prev_credit_AMT_DRAWINGS_POS_CURRENT_mean_latest':'amount_feautres', 'prev_credit_AMT_DRAWINGS_POS_CURRENT_sum_min':'amount_feautres', 'prev_credit_AMT_DRAWINGS_POS_CURRENT_sum_max':'amount_feautres', 'prev_credit_AMT_DRAWINGS_POS_CURRENT_sum_mean':'amount_feautres', 'prev_credit_AMT_DRAWINGS_POS_CURRENT_sum_median':'amount_feautres', 'prev_credit_AMT_DRAWINGS_POS_CURRENT_sum_latest':'amount_feautres', 'prev_credit_AMT_DRAWINGS_POS_CURRENT_max_min':'amount_feautres', 'prev_credit_AMT_DRAWINGS_POS_CURRENT_max_max':'amount_feautres', 'prev_credit_AMT_DRAWINGS_POS_CURRENT_max_mean':'amount_feautres', 'prev_credit_AMT_DRAWINGS_POS_CURRENT_max_median':'amount_feautres', 'prev_credit_AMT_DRAWINGS_POS_CURRENT_max_latest':'amount_feautres', 'prev_credit_AMT_INST_MIN_REGULARITY_min_min':'amount_feautres', 'prev_credit_AMT_INST_MIN_REGULARITY_min_max':'amount_feautres', 'prev_credit_AMT_INST_MIN_REGULARITY_min_mean':'amount_feautres', 'prev_credit_AMT_INST_MIN_REGULARITY_min_median':'amount_feautres', 'prev_credit_AMT_INST_MIN_REGULARITY_min_latest':'amount_feautres', 'prev_credit_AMT_INST_MIN_REGULARITY_max_min':'amount_feautres', 'prev_credit_AMT_INST_MIN_REGULARITY_max_max':'amount_feautres', 'prev_credit_AMT_INST_MIN_REGULARITY_max_mean':'amount_feautres', 'prev_credit_AMT_INST_MIN_REGULARITY_max_median':'amount_feautres', 'prev_credit_AMT_INST_MIN_REGULARITY_max_latest':'amount_feautres', 'prev_credit_AMT_INST_MIN_REGULARITY_cntd_min':'count_features', 'prev_credit_AMT_INST_MIN_REGULARITY_cntd_max':'count_features', 'prev_credit_AMT_INST_MIN_REGULARITY_cntd_mean':'count_features', 'prev_credit_AMT_INST_MIN_REGULARITY_cntd_median':'count_features', 'prev_credit_AMT_INST_MIN_REGULARITY_cntd_latest':'count_features', 'prev_credit_AMT_PAYMENT_CURRENT_sum_min':'amount_feautres', 'prev_credit_AMT_PAYMENT_CURRENT_sum_max':'amount_feautres', 'prev_credit_AMT_PAYMENT_CURRENT_sum_mean':'amount_feautres', 'prev_credit_AMT_PAYMENT_CURRENT_sum_median':'amount_feautres', 'prev_credit_AMT_PAYMENT_CURRENT_sum_latest':'amount_feautres', 'prev_credit_AMT_PAYMENT_CURRENT_max_min':'amount_feautres', 'prev_credit_AMT_PAYMENT_CURRENT_max_max':'amount_feautres', 'prev_credit_AMT_PAYMENT_CURRENT_max_mean':'amount_feautres', 'prev_credit_AMT_PAYMENT_CURRENT_max_median':'amount_feautres', 'prev_credit_AMT_PAYMENT_CURRENT_max_latest':'amount_feautres', 'prev_credit_AMT_PAYMENT_CURRENT_cntd_min':'count_features', 'prev_credit_AMT_PAYMENT_CURRENT_cntd_max':'count_features', 'prev_credit_AMT_PAYMENT_CURRENT_cntd_mean':'count_features', 'prev_credit_AMT_PAYMENT_CURRENT_cntd_median':'count_features', 'prev_credit_AMT_PAYMENT_CURRENT_cntd_latest':'count_features', 'prev_credit_AMT_PAYMENT_TOTAL_CURRENT_sum_min':'amount_feautres', 'prev_credit_AMT_PAYMENT_TOTAL_CURRENT_sum_max':'amount_feautres', 'prev_credit_AMT_PAYMENT_TOTAL_CURRENT_sum_mean':'amount_feautres', 'prev_credit_AMT_PAYMENT_TOTAL_CURRENT_sum_median':'amount_feautres', 'prev_credit_AMT_PAYMENT_TOTAL_CURRENT_sum_latest':'amount_feautres', 'prev_credit_AMT_PAYMENT_TOTAL_CURRENT_max_min':'amount_feautres', 'prev_credit_AMT_PAYMENT_TOTAL_CURRENT_max_max':'amount_feautres', 'prev_credit_AMT_PAYMENT_TOTAL_CURRENT_max_mean':'amount_feautres', 'prev_credit_AMT_PAYMENT_TOTAL_CURRENT_max_median':'amount_feautres', 'prev_credit_AMT_PAYMENT_TOTAL_CURRENT_max_latest':'amount_feautres', 'prev_credit_AMT_PAYMENT_TOTAL_CURRENT_cntd_min':'count_features', 'prev_credit_AMT_PAYMENT_TOTAL_CURRENT_cntd_max':'count_features', 'prev_credit_AMT_PAYMENT_TOTAL_CURRENT_cntd_mean':'count_features', 'prev_credit_AMT_PAYMENT_TOTAL_CURRENT_cntd_median':'count_features', 'prev_credit_AMT_PAYMENT_TOTAL_CURRENT_cntd_latest':'count_features', 'prev_credit_AMT_RECEIVABLE_PRINCIPAL_sum_min':'amount_feautres', 'prev_credit_AMT_RECEIVABLE_PRINCIPAL_sum_max':'amount_feautres', 'prev_credit_AMT_RECEIVABLE_PRINCIPAL_sum_mean':'amount_feautres', 'prev_credit_AMT_RECEIVABLE_PRINCIPAL_sum_median':'amount_feautres', 'prev_credit_AMT_RECEIVABLE_PRINCIPAL_sum_latest':'amount_feautres', 'prev_credit_AMT_RECEIVABLE_PRINCIPAL_max_min':'amount_feautres', 'prev_credit_AMT_RECEIVABLE_PRINCIPAL_max_max':'amount_feautres', 'prev_credit_AMT_RECEIVABLE_PRINCIPAL_max_mean':'amount_feautres', 'prev_credit_AMT_RECEIVABLE_PRINCIPAL_max_median':'amount_feautres', 'prev_credit_AMT_RECEIVABLE_PRINCIPAL_max_latest':'amount_feautres', 'prev_credit_AMT_RECEIVABLE_PRINCIPAL_cntd_min':'count_features', 'prev_credit_AMT_RECEIVABLE_PRINCIPAL_cntd_max':'count_features', 'prev_credit_AMT_RECEIVABLE_PRINCIPAL_cntd_mean':'count_features', 'prev_credit_AMT_RECEIVABLE_PRINCIPAL_cntd_median':'count_features', 'prev_credit_AMT_RECEIVABLE_PRINCIPAL_cntd_latest':'count_features', 'prev_credit_AMT_RECIVABLE_sum_min':'amount_feautres', 'prev_credit_AMT_RECIVABLE_sum_max':'amount_feautres', 'prev_credit_AMT_RECIVABLE_sum_mean':'amount_feautres', 'prev_credit_AMT_RECIVABLE_sum_median':'amount_feautres', 'prev_credit_AMT_RECIVABLE_sum_latest':'amount_feautres', 'prev_credit_AMT_RECIVABLE_max_min':'amount_feautres', 'prev_credit_AMT_RECIVABLE_max_max':'amount_feautres', 'prev_credit_AMT_RECIVABLE_max_mean':'amount_feautres', 'prev_credit_AMT_RECIVABLE_max_median':'amount_feautres', 'prev_credit_AMT_RECIVABLE_max_latest':'amount_feautres', 'prev_credit_AMT_RECIVABLE_cntd_min':'count_features', 'prev_credit_AMT_RECIVABLE_cntd_max':'count_features', 'prev_credit_AMT_RECIVABLE_cntd_mean':'count_features', 'prev_credit_AMT_RECIVABLE_cntd_median':'count_features', 'prev_credit_AMT_RECIVABLE_cntd_latest':'count_features', 'prev_credit_AMT_TOTAL_RECEIVABLE_sum_min':'amount_feautres', 'prev_credit_AMT_TOTAL_RECEIVABLE_sum_max':'amount_feautres', 'prev_credit_AMT_TOTAL_RECEIVABLE_sum_mean':'amount_feautres', 'prev_credit_AMT_TOTAL_RECEIVABLE_sum_median':'amount_feautres', 'prev_credit_AMT_TOTAL_RECEIVABLE_sum_latest':'amount_feautres', 'prev_credit_AMT_TOTAL_RECEIVABLE_max_min':'amount_feautres', 'prev_credit_AMT_TOTAL_RECEIVABLE_max_max':'amount_feautres', 'prev_credit_AMT_TOTAL_RECEIVABLE_max_mean':'amount_feautres', 'prev_credit_AMT_TOTAL_RECEIVABLE_max_median':'amount_feautres', 'prev_credit_AMT_TOTAL_RECEIVABLE_max_latest':'amount_feautres', 'prev_credit_AMT_TOTAL_RECEIVABLE_cntd_min':'count_features', 'prev_credit_AMT_TOTAL_RECEIVABLE_cntd_max':'count_features', 'prev_credit_AMT_TOTAL_RECEIVABLE_cntd_mean':'count_features', 'prev_credit_AMT_TOTAL_RECEIVABLE_cntd_median':'count_features', 'prev_credit_AMT_TOTAL_RECEIVABLE_cntd_latest':'count_features', 'prev_credit_CNT_DRAWINGS_ATM_CURRENT_sum_min':'count_features', 'prev_credit_CNT_DRAWINGS_ATM_CURRENT_sum_max':'count_features', 'prev_credit_CNT_DRAWINGS_ATM_CURRENT_sum_mean':'count_features', 'prev_credit_CNT_DRAWINGS_ATM_CURRENT_sum_median':'count_features', 'prev_credit_CNT_DRAWINGS_ATM_CURRENT_sum_latest':'count_features', 'prev_credit_CNT_DRAWINGS_ATM_CURRENT_max_min':'count_features', 'prev_credit_CNT_DRAWINGS_ATM_CURRENT_max_max':'count_features', 'prev_credit_CNT_DRAWINGS_ATM_CURRENT_max_mean':'count_features', 'prev_credit_CNT_DRAWINGS_ATM_CURRENT_max_median':'count_features', 'prev_credit_CNT_DRAWINGS_ATM_CURRENT_max_latest':'count_features', 'prev_credit_CNT_DRAWINGS_ATM_CURRENT_mean_min':'count_features', 'prev_credit_CNT_DRAWINGS_ATM_CURRENT_mean_max':'count_features', 'prev_credit_CNT_DRAWINGS_ATM_CURRENT_mean_mean':'count_features', 'prev_credit_CNT_DRAWINGS_ATM_CURRENT_mean_median':'count_features', 'prev_credit_CNT_DRAWINGS_ATM_CURRENT_mean_latest':'count_features', 'prev_credit_CNT_DRAWINGS_CURRENT_sum_min':'count_features', 'prev_credit_CNT_DRAWINGS_CURRENT_sum_max':'count_features', 'prev_credit_CNT_DRAWINGS_CURRENT_sum_mean':'count_features', 'prev_credit_CNT_DRAWINGS_CURRENT_sum_median':'count_features', 'prev_credit_CNT_DRAWINGS_CURRENT_sum_latest':'count_features', 'prev_credit_CNT_DRAWINGS_CURRENT_max_min':'count_features', 'prev_credit_CNT_DRAWINGS_CURRENT_max_max':'count_features', 'prev_credit_CNT_DRAWINGS_CURRENT_max_mean':'count_features', 'prev_credit_CNT_DRAWINGS_CURRENT_max_median':'count_features', 'prev_credit_CNT_DRAWINGS_CURRENT_max_latest':'count_features', 'prev_credit_CNT_DRAWINGS_CURRENT_mean_min':'count_features', 'prev_credit_CNT_DRAWINGS_CURRENT_mean_max':'count_features', 'prev_credit_CNT_DRAWINGS_CURRENT_mean_mean':'count_features', 'prev_credit_CNT_DRAWINGS_CURRENT_mean_median':'count_features', 'prev_credit_CNT_DRAWINGS_CURRENT_mean_latest':'count_features', 'prev_credit_CNT_DRAWINGS_OTHER_CURRENT_sum_min':'count_features', 'prev_credit_CNT_DRAWINGS_OTHER_CURRENT_sum_max':'count_features', 'prev_credit_CNT_DRAWINGS_OTHER_CURRENT_sum_mean':'count_features', 'prev_credit_CNT_DRAWINGS_OTHER_CURRENT_sum_median':'count_features', 'prev_credit_CNT_DRAWINGS_OTHER_CURRENT_sum_latest':'count_features', 'prev_credit_CNT_DRAWINGS_OTHER_CURRENT_max_min':'count_features', 'prev_credit_CNT_DRAWINGS_OTHER_CURRENT_max_max':'count_features', 'prev_credit_CNT_DRAWINGS_OTHER_CURRENT_max_mean':'count_features', 'prev_credit_CNT_DRAWINGS_OTHER_CURRENT_max_median':'count_features', 'prev_credit_CNT_DRAWINGS_OTHER_CURRENT_max_latest':'count_features', 'prev_credit_CNT_DRAWINGS_OTHER_CURRENT_mean_min':'count_features', 'prev_credit_CNT_DRAWINGS_OTHER_CURRENT_mean_max':'count_features', 'prev_credit_CNT_DRAWINGS_OTHER_CURRENT_mean_mean':'count_features', 'prev_credit_CNT_DRAWINGS_OTHER_CURRENT_mean_median':'count_features', 'prev_credit_CNT_DRAWINGS_OTHER_CURRENT_mean_latest':'count_features', 'prev_credit_CNT_DRAWINGS_POS_CURRENT_sum_min':'count_features', 'prev_credit_CNT_DRAWINGS_POS_CURRENT_sum_max':'count_features', 'prev_credit_CNT_DRAWINGS_POS_CURRENT_sum_mean':'count_features', 'prev_credit_CNT_DRAWINGS_POS_CURRENT_sum_median':'count_features', 'prev_credit_CNT_DRAWINGS_POS_CURRENT_sum_latest':'count_features', 'prev_credit_CNT_DRAWINGS_POS_CURRENT_max_min':'count_features', 'prev_credit_CNT_DRAWINGS_POS_CURRENT_max_max':'count_features', 'prev_credit_CNT_DRAWINGS_POS_CURRENT_max_mean':'count_features', 'prev_credit_CNT_DRAWINGS_POS_CURRENT_max_median':'count_features', 'prev_credit_CNT_DRAWINGS_POS_CURRENT_max_latest':'count_features', 'prev_credit_CNT_DRAWINGS_POS_CURRENT_mean_min':'count_features', 'prev_credit_CNT_DRAWINGS_POS_CURRENT_mean_max':'count_features', 'prev_credit_CNT_DRAWINGS_POS_CURRENT_mean_mean':'count_features', 'prev_credit_CNT_DRAWINGS_POS_CURRENT_mean_median':'count_features', 'prev_credit_CNT_DRAWINGS_POS_CURRENT_mean_latest':'count_features', 'prev_credit_CNT_INSTALMENT_MATURE_CUM_cntd_min':'count_features', 'prev_credit_CNT_INSTALMENT_MATURE_CUM_cntd_max':'count_features', 'prev_credit_CNT_INSTALMENT_MATURE_CUM_cntd_mean':'count_features', 'prev_credit_CNT_INSTALMENT_MATURE_CUM_cntd_median':'count_features', 'prev_credit_CNT_INSTALMENT_MATURE_CUM_cntd_latest':'count_features', 'prev_credit_SK_DPD_max_min':'count_features', 'prev_credit_SK_DPD_max_max':'count_features', 'prev_credit_SK_DPD_max_mean':'count_features', 'prev_credit_SK_DPD_max_median':'count_features', 'prev_credit_SK_DPD_max_latest':'count_features', 'prev_credit_SK_DPD_size_min':'count_features', 'prev_credit_SK_DPD_size_max':'count_features', 'prev_credit_SK_DPD_size_mean':'count_features', 'prev_credit_SK_DPD_size_median':'count_features', 'prev_credit_SK_DPD_size_latest':'count_features', 'prev_credit_SK_DPD_DEF_max_min':'count_features', 'prev_credit_SK_DPD_DEF_max_max':'count_features', 'prev_credit_SK_DPD_DEF_max_mean':'count_features', 'prev_credit_SK_DPD_DEF_max_median':'count_features', 'prev_credit_SK_DPD_DEF_max_latest':'count_features', 'prev_credit_SK_DPD_DEF_size_min':'count_features', 'prev_credit_SK_DPD_DEF_size_max':'count_features', 'prev_credit_SK_DPD_DEF_size_mean':'count_features', 'prev_credit_SK_DPD_DEF_size_median':'count_features', 'prev_credit_SK_DPD_DEF_size_latest':'count_features', 'prev_credit_SK_DPD_diff_max_min':'count_features', 'prev_credit_SK_DPD_diff_max_max':'count_features', 'prev_credit_SK_DPD_diff_max_mean':'count_features', 'prev_credit_SK_DPD_diff_max_median':'count_features', 'prev_credit_SK_DPD_diff_max_latest':'count_features', 'prev_credit_SK_DPD_diff_size_min':'count_features', 'prev_credit_SK_DPD_diff_size_max':'count_features', 'prev_credit_SK_DPD_diff_size_mean':'count_features', 'prev_credit_SK_DPD_diff_size_median':'count_features', 'prev_credit_SK_DPD_diff_size_latest':'count_features', 'prev_installment_NUM_INSTALMENT_VERSION_nunique_min':'count_features', 'prev_installment_NUM_INSTALMENT_VERSION_nunique_max':'count_features', 'prev_installment_NUM_INSTALMENT_VERSION_nunique_mean':'count_features', 'prev_installment_NUM_INSTALMENT_VERSION_nunique_median':'count_features', 'prev_installment_NUM_INSTALMENT_VERSION_nunique_latest':'count_features', 'prev_installment_NUM_INSTALMENT_NUMBER_min_min':'count_features', 'prev_installment_NUM_INSTALMENT_NUMBER_min_max':'count_features', 'prev_installment_NUM_INSTALMENT_NUMBER_min_mean':'count_features', 'prev_installment_NUM_INSTALMENT_NUMBER_min_median':'count_features', 'prev_installment_NUM_INSTALMENT_NUMBER_min_latest':'count_features', 'prev_installment_NUM_INSTALMENT_NUMBER_max_min':'count_features', 'prev_installment_NUM_INSTALMENT_NUMBER_max_max':'count_features', 'prev_installment_NUM_INSTALMENT_NUMBER_max_mean':'count_features', 'prev_installment_NUM_INSTALMENT_NUMBER_max_median':'count_features', 'prev_installment_NUM_INSTALMENT_NUMBER_max_latest':'count_features', 'prev_installment_NUM_INSTALMENT_NUMBER_count_min':'count_features', 'prev_installment_NUM_INSTALMENT_NUMBER_count_max':'count_features', 'prev_installment_NUM_INSTALMENT_NUMBER_count_mean':'count_features', 'prev_installment_NUM_INSTALMENT_NUMBER_count_median':'count_features', 'prev_installment_NUM_INSTALMENT_NUMBER_count_latest':'count_features', 'prev_installment_NUM_INSTALMENT_NUMBER_nunique_min':'count_features', 'prev_installment_NUM_INSTALMENT_NUMBER_nunique_max':'count_features', 'prev_installment_NUM_INSTALMENT_NUMBER_nunique_mean':'count_features', 'prev_installment_NUM_INSTALMENT_NUMBER_nunique_median':'count_features', 'prev_installment_NUM_INSTALMENT_NUMBER_nunique_latest':'count_features', 'prev_installment_DAYS_INSTALMENT_min_min':'count_features', 'prev_installment_DAYS_INSTALMENT_min_max':'count_features', 'prev_installment_DAYS_INSTALMENT_min_mean':'count_features', 'prev_installment_DAYS_INSTALMENT_min_median':'count_features', 'prev_installment_DAYS_INSTALMENT_min_latest':'count_features', 'prev_installment_DAYS_INSTALMENT_max_min':'count_features', 'prev_installment_DAYS_INSTALMENT_max_max':'count_features', 'prev_installment_DAYS_INSTALMENT_max_mean':'count_features', 'prev_installment_DAYS_INSTALMENT_max_median':'count_features', 'prev_installment_DAYS_INSTALMENT_max_latest':'count_features', 'prev_installment_DAYS_INSTALMENT_median_min':'count_features', 'prev_installment_DAYS_INSTALMENT_median_max':'count_features', 'prev_installment_DAYS_INSTALMENT_median_mean':'count_features', 'prev_installment_DAYS_INSTALMENT_median_median':'count_features', 'prev_installment_DAYS_INSTALMENT_median_latest':'count_features', 'prev_installment_DAYS_INSTALMENT_mean_min':'count_features', 'prev_installment_DAYS_INSTALMENT_mean_max':'count_features', 'prev_installment_DAYS_INSTALMENT_mean_mean':'count_features', 'prev_installment_DAYS_INSTALMENT_mean_median':'count_features', 'prev_installment_DAYS_INSTALMENT_mean_latest':'count_features', 'prev_installment_DAYS_INSTALMENT_range_min':'count_features', 'prev_installment_DAYS_INSTALMENT_range_max':'count_features', 'prev_installment_DAYS_INSTALMENT_range_mean':'count_features', 'prev_installment_DAYS_INSTALMENT_range_median':'count_features', 'prev_installment_DAYS_INSTALMENT_range_latest':'count_features', 'prev_installment_DAYS_ENTRY_PAYMENT_min_min':'count_features', 'prev_installment_DAYS_ENTRY_PAYMENT_min_max':'count_features', 'prev_installment_DAYS_ENTRY_PAYMENT_min_mean':'count_features', 'prev_installment_DAYS_ENTRY_PAYMENT_min_median':'count_features', 'prev_installment_DAYS_ENTRY_PAYMENT_min_latest':'count_features', 'prev_installment_DAYS_ENTRY_PAYMENT_max_min':'count_features', 'prev_installment_DAYS_ENTRY_PAYMENT_max_max':'count_features', 'prev_installment_DAYS_ENTRY_PAYMENT_max_mean':'count_features', 'prev_installment_DAYS_ENTRY_PAYMENT_max_median':'count_features', 'prev_installment_DAYS_ENTRY_PAYMENT_max_latest':'count_features', 'prev_installment_DAYS_ENTRY_PAYMENT_median_min':'count_features', 'prev_installment_DAYS_ENTRY_PAYMENT_median_max':'count_features', 'prev_installment_DAYS_ENTRY_PAYMENT_median_mean':'count_features', 'prev_installment_DAYS_ENTRY_PAYMENT_median_median':'count_features', 'prev_installment_DAYS_ENTRY_PAYMENT_median_latest':'count_features', 'prev_installment_DAYS_ENTRY_PAYMENT_mean_min':'count_features', 'prev_installment_DAYS_ENTRY_PAYMENT_mean_max':'count_features', 'prev_installment_DAYS_ENTRY_PAYMENT_mean_mean':'count_features', 'prev_installment_DAYS_ENTRY_PAYMENT_mean_median':'count_features', 'prev_installment_DAYS_ENTRY_PAYMENT_mean_latest':'count_features', 'prev_installment_DAYS_ENTRY_PAYMENT_range_min':'count_features', 'prev_installment_DAYS_ENTRY_PAYMENT_range_max':'count_features', 'prev_installment_DAYS_ENTRY_PAYMENT_range_mean':'count_features', 'prev_installment_DAYS_ENTRY_PAYMENT_range_median':'count_features', 'prev_installment_DAYS_ENTRY_PAYMENT_range_latest':'count_features', 'prev_installment_DPD_min_min':'count_features', 'prev_installment_DPD_min_max':'count_features', 'prev_installment_DPD_min_mean':'count_features', 'prev_installment_DPD_min_median':'count_features', 'prev_installment_DPD_min_latest':'count_features', 'prev_installment_DPD_max_min':'count_features', 'prev_installment_DPD_max_max':'count_features', 'prev_installment_DPD_max_mean':'count_features', 'prev_installment_DPD_max_median':'count_features', 'prev_installment_DPD_max_latest':'count_features', 'prev_installment_DPD_median_min':'count_features', 'prev_installment_DPD_median_max':'count_features', 'prev_installment_DPD_median_mean':'count_features', 'prev_installment_DPD_median_median':'count_features', 'prev_installment_DPD_median_latest':'count_features', 'prev_installment_DPD_mean_min':'count_features', 'prev_installment_DPD_mean_max':'count_features', 'prev_installment_DPD_mean_mean':'count_features', 'prev_installment_DPD_mean_median':'count_features', 'prev_installment_DPD_mean_latest':'count_features', 'prev_installment_DPD_sum_min':'count_features', 'prev_installment_DPD_sum_max':'count_features', 'prev_installment_DPD_sum_mean':'count_features', 'prev_installment_DPD_sum_median':'count_features', 'prev_installment_DPD_sum_latest':'count_features', 'prev_installment_DPD_std_min':'count_features', 'prev_installment_DPD_std_max':'count_features', 'prev_installment_DPD_std_mean':'count_features', 'prev_installment_DPD_std_median':'count_features', 'prev_installment_DPD_std_latest':'count_features', 'prev_installment_AMT_INSTALMENT_min_min':'amount_feautres', 'prev_installment_AMT_INSTALMENT_min_max':'amount_feautres', 'prev_installment_AMT_INSTALMENT_min_mean':'amount_feautres', 'prev_installment_AMT_INSTALMENT_min_median':'amount_feautres', 'prev_installment_AMT_INSTALMENT_min_latest':'amount_feautres', 'prev_installment_AMT_INSTALMENT_max_min':'amount_feautres', 'prev_installment_AMT_INSTALMENT_max_max':'amount_feautres', 'prev_installment_AMT_INSTALMENT_max_mean':'amount_feautres', 'prev_installment_AMT_INSTALMENT_max_median':'amount_feautres', 'prev_installment_AMT_INSTALMENT_max_latest':'amount_feautres', 'prev_installment_AMT_INSTALMENT_mean_min':'amount_feautres', 'prev_installment_AMT_INSTALMENT_mean_max':'amount_feautres', 'prev_installment_AMT_INSTALMENT_mean_mean':'amount_feautres', 'prev_installment_AMT_INSTALMENT_mean_median':'amount_feautres', 'prev_installment_AMT_INSTALMENT_mean_latest':'amount_feautres', 'prev_installment_AMT_INSTALMENT_sum_min':'amount_feautres', 'prev_installment_AMT_INSTALMENT_sum_max':'amount_feautres', 'prev_installment_AMT_INSTALMENT_sum_mean':'amount_feautres', 'prev_installment_AMT_INSTALMENT_sum_median':'amount_feautres', 'prev_installment_AMT_INSTALMENT_sum_latest':'amount_feautres', 'prev_installment_AMT_INSTALMENT_median_min':'amount_feautres', 'prev_installment_AMT_INSTALMENT_median_max':'amount_feautres', 'prev_installment_AMT_INSTALMENT_median_mean':'amount_feautres', 'prev_installment_AMT_INSTALMENT_median_median':'amount_feautres', 'prev_installment_AMT_INSTALMENT_median_latest':'amount_feautres', 'prev_installment_AMT_INSTALMENT_std_min':'amount_feautres', 'prev_installment_AMT_INSTALMENT_std_max':'amount_feautres', 'prev_installment_AMT_INSTALMENT_std_mean':'amount_feautres', 'prev_installment_AMT_INSTALMENT_std_median':'amount_feautres', 'prev_installment_AMT_INSTALMENT_std_latest':'amount_feautres', 'prev_installment_AMT_INSTALMENT_nunique_min':'count_features', 'prev_installment_AMT_INSTALMENT_nunique_max':'count_features', 'prev_installment_AMT_INSTALMENT_nunique_mean':'count_features', 'prev_installment_AMT_INSTALMENT_nunique_median':'count_features', 'prev_installment_AMT_INSTALMENT_nunique_latest':'count_features', 'prev_installment_AMT_PAYMENT_min_min':'amount_feautres', 'prev_installment_AMT_PAYMENT_min_max':'amount_feautres', 'prev_installment_AMT_PAYMENT_min_mean':'amount_feautres', 'prev_installment_AMT_PAYMENT_min_median':'amount_feautres', 'prev_installment_AMT_PAYMENT_min_latest':'amount_feautres', 'prev_installment_AMT_PAYMENT_max_min':'amount_feautres', 'prev_installment_AMT_PAYMENT_max_max':'amount_feautres', 'prev_installment_AMT_PAYMENT_max_mean':'amount_feautres', 'prev_installment_AMT_PAYMENT_max_median':'amount_feautres', 'prev_installment_AMT_PAYMENT_max_latest':'amount_feautres', 'prev_installment_AMT_PAYMENT_mean_min':'amount_feautres', 'prev_installment_AMT_PAYMENT_mean_max':'amount_feautres', 'prev_installment_AMT_PAYMENT_mean_mean':'amount_feautres', 'prev_installment_AMT_PAYMENT_mean_median':'amount_feautres', 'prev_installment_AMT_PAYMENT_mean_latest':'amount_feautres', 'prev_installment_AMT_PAYMENT_sum_min':'amount_feautres', 'prev_installment_AMT_PAYMENT_sum_max':'amount_feautres', 'prev_installment_AMT_PAYMENT_sum_mean':'amount_feautres', 'prev_installment_AMT_PAYMENT_sum_median':'amount_feautres', 'prev_installment_AMT_PAYMENT_sum_latest':'amount_feautres', 'prev_installment_AMT_PAYMENT_median_min':'amount_feautres', 'prev_installment_AMT_PAYMENT_median_max':'amount_feautres', 'prev_installment_AMT_PAYMENT_median_mean':'amount_feautres', 'prev_installment_AMT_PAYMENT_median_median':'amount_feautres', 'prev_installment_AMT_PAYMENT_median_latest':'amount_feautres', 'prev_installment_AMT_PAYMENT_std_min':'amount_feautres', 'prev_installment_AMT_PAYMENT_std_max':'amount_feautres', 'prev_installment_AMT_PAYMENT_std_mean':'amount_feautres', 'prev_installment_AMT_PAYMENT_std_median':'amount_feautres', 'prev_installment_AMT_PAYMENT_std_latest':'amount_feautres', 'prev_installment_AMT_PAYMENT_nunique_min':'count_features', 'prev_installment_AMT_PAYMENT_nunique_max':'count_features', 'prev_installment_AMT_PAYMENT_nunique_mean':'count_features', 'prev_installment_AMT_PAYMENT_nunique_median':'count_features', 'prev_installment_AMT_PAYMENT_nunique_latest':'count_features', 'prev_installment_AMT_DPD_min_min':'count_features', 'prev_installment_AMT_DPD_min_max':'count_features', 'prev_installment_AMT_DPD_min_mean':'count_features', 'prev_installment_AMT_DPD_min_median':'count_features', 'prev_installment_AMT_DPD_min_latest':'count_features', 'prev_installment_AMT_DPD_max_min':'count_features', 'prev_installment_AMT_DPD_max_max':'count_features', 'prev_installment_AMT_DPD_max_mean':'count_features', 'prev_installment_AMT_DPD_max_median':'count_features', 'prev_installment_AMT_DPD_max_latest':'count_features', 'prev_installment_AMT_DPD_mean_min':'count_features', 'prev_installment_AMT_DPD_mean_max':'count_features', 'prev_installment_AMT_DPD_mean_mean':'count_features', 'prev_installment_AMT_DPD_mean_median':'count_features', 'prev_installment_AMT_DPD_mean_latest':'count_features', 'prev_installment_AMT_DPD_sum_min':'count_features', 'prev_installment_AMT_DPD_sum_max':'count_features', 'prev_installment_AMT_DPD_sum_mean':'count_features', 'prev_installment_AMT_DPD_sum_median':'count_features', 'prev_installment_AMT_DPD_sum_latest':'count_features', 'prev_installment_AMT_DPD_median_min':'count_features', 'prev_installment_AMT_DPD_median_max':'count_features', 'prev_installment_AMT_DPD_median_mean':'count_features', 'prev_installment_AMT_DPD_median_median':'count_features', 'prev_installment_AMT_DPD_median_latest':'count_features', 'prev_installment_AMT_DPD_std_min':'count_features', 'prev_installment_AMT_DPD_std_max':'count_features', 'prev_installment_AMT_DPD_std_mean':'count_features', 'prev_installment_AMT_DPD_std_median':'count_features', 'prev_installment_AMT_DPD_std_latest':'count_features', 'prev_installment_AMT_DPD_nunique_min':'count_features', 'prev_installment_AMT_DPD_nunique_max':'count_features', 'prev_installment_AMT_DPD_nunique_mean':'count_features', 'prev_installment_AMT_DPD_nunique_median':'count_features', 'prev_installment_AMT_DPD_nunique_latest':'count_features', 'prev_WEEKDAY_APPR_PROCESS_START_collect_set':'category_features', 'prev_WEEKDAY_APPR_PROCESS_START_countd':'count_features', 'prev_WEEKDAY_APPR_PROCESS_START_latest':'category_features', 'prev_HOUR_APPR_PROCESS_START_collect_set':'category_features', 'prev_HOUR_APPR_PROCESS_START_countd':'count_features', 'prev_HOUR_APPR_PROCESS_START_latest':'category_features', 'prev_NAME_CASH_LOAN_PURPOSE_collect_set':'category_features', 'prev_NAME_CASH_LOAN_PURPOSE_countd':'count_features', 'prev_NAME_CASH_LOAN_PURPOSE_latest':'category_features', 'prev_NAME_GOODS_CATEGORY_collect_set':'category_features', 'prev_NAME_GOODS_CATEGORY_countd':'count_features', 'prev_NAME_GOODS_CATEGORY_latest':'category_features', 'prev_cash_CNT_INSTALMENT_set_collect_set':'category_features', 'prev_cash_CNT_INSTALMENT_set_countd':'count_features', 'prev_cash_CNT_INSTALMENT_set_latest':'category_features', 'prev_cash_NAME_CONTRACT_STATUS_set_collect_set':'category_features', 'prev_cash_NAME_CONTRACT_STATUS_set_countd':'count_features', 'prev_cash_NAME_CONTRACT_STATUS_set_latest':'category_features', 'prev_cash_NAME_CONTRACT_STATUS_latest_collect_set':'category_features', 'prev_cash_NAME_CONTRACT_STATUS_latest_countd':'count_features', 'prev_cash_NAME_CONTRACT_STATUS_latest_latest':'category_features', 'prev_credit_CNT_INSTALMENT_MATURE_CUM_set_collect_set':'category_features', 'prev_credit_CNT_INSTALMENT_MATURE_CUM_set_countd':'count_features', 'prev_credit_CNT_INSTALMENT_MATURE_CUM_set_latest':'category_features', 'prev_credit_CNT_INSTALMENT_MATURE_CUM_latest_collect_set':'category_features', 'prev_credit_CNT_INSTALMENT_MATURE_CUM_latest_countd':'count_features', 'prev_credit_CNT_INSTALMENT_MATURE_CUM_latest_latest':'category_features', 'prev_credit_NAME_CONTRACT_STATUS_cntd_collect_set':'category_features', 'prev_credit_NAME_CONTRACT_STATUS_cntd_countd':'count_features', 'prev_credit_NAME_CONTRACT_STATUS_cntd_latest':'category_features', 'prev_credit_NAME_CONTRACT_STATUS_set_collect_set':'category_features', 'prev_credit_NAME_CONTRACT_STATUS_set_countd':'count_features', 'prev_credit_NAME_CONTRACT_STATUS_set_latest':'category_features', 'prev_installment_NUM_INSTALMENT_VERSION_set_collect_set':'category_features', 'prev_installment_NUM_INSTALMENT_VERSION_set_countd':'count_features', 'prev_installment_NUM_INSTALMENT_VERSION_set_latest':'category_features', 'prev_installment_NUM_INSTALMENT_VERSION_latest_collect_set':'category_features', 'prev_installment_NUM_INSTALMENT_VERSION_latest_countd''prev_installment_NUM_INSTALMENT_VERSION_latest_latest':'category_features', 'prev_NAME_CONTRACT_STATUS_collect_set':'category_features', 'prev_NAME_CONTRACT_STATUS_countd':'count_features', 'prev_NAME_CONTRACT_STATUS_latest':'category_features', 'prev_NAME_PAYMENT_TYPE_collect_set':'category_features', 'prev_NAME_PAYMENT_TYPE_countd':'count_features', 'prev_NAME_PAYMENT_TYPE_latest':'category_features', 'prev_CODE_REJECT_REASON_collect_set':'category_features', 'prev_CODE_REJECT_REASON_countd':'count_features', 'prev_CODE_REJECT_REASON_latest':'category_features', 'prev_NAME_TYPE_SUITE_collect_set':'category_features', 'prev_NAME_TYPE_SUITE_countd':'count_features', 'prev_NAME_TYPE_SUITE_latest':'category_features', 'prev_NAME_CLIENT_TYPE_collect_set':'category_features', 'prev_NAME_CLIENT_TYPE_countd':'count_features', 'prev_NAME_CLIENT_TYPE_latest':'category_features', 'prev_NAME_PORTFOLIO_collect_set':'category_features', 'prev_NAME_PORTFOLIO_countd':'count_features', 'prev_NAME_PORTFOLIO_latest':'category_features', 'prev_NAME_PRODUCT_TYPE_collect_set':'category_features', 'prev_NAME_PRODUCT_TYPE_countd':'count_features', 'prev_NAME_PRODUCT_TYPE_latest':'category_features', 'prev_CHANNEL_TYPE_collect_set':'category_features', 'prev_CHANNEL_TYPE_countd':'count_features', 'prev_CHANNEL_TYPE_latest':'category_features', 'prev_NAME_SELLER_INDUSTRY_collect_set':'category_features', 'prev_NAME_SELLER_INDUSTRY_countd':'count_features', 'prev_NAME_SELLER_INDUSTRY_latest':'category_features', 'prev_NAME_YIELD_GROUP_collect_set':'category_features', 'prev_NAME_YIELD_GROUP_countd':'count_features', 'prev_NAME_YIELD_GROUP_latest':'category_features', 'prev_PRODUCT_COMBINATION_collect_set':'category_features', 'prev_PRODUCT_COMBINATION_countd':'count_features', 'prev_PRODUCT_COMBINATION_latest':'category_features', 'prev_AMT_ANNUITY_sum':'amount_feautres', 'prev_AMT_ANNUITY_mean':'amount_feautres', 'prev_AMT_ANNUITY_max':'amount_feautres', 'prev_AMT_ANNUITY_min':'amount_feautres', 'prev_AMT_APPLICATION_sum':'amount_feautres', 'prev_AMT_APPLICATION_mean':'amount_feautres', 'prev_AMT_APPLICATION_max':'amount_feautres', 'prev_AMT_APPLICATION_min':'amount_feautres', 'prev_AMT_CREDIT_sum':'amount_feautres', 'prev_AMT_CREDIT_mean':'amount_feautres', 'prev_AMT_CREDIT_max':'amount_feautres', 'prev_AMT_CREDIT_min':'amount_feautres', 'prev_AMT_GOODS_PRICE_sum':'amount_feautres', 'prev_AMT_GOODS_PRICE_mean':'amount_feautres', 'prev_AMT_GOODS_PRICE_max':'amount_feautres', 'prev_AMT_GOODS_PRICE_min':'amount_feautres', 'prev_AMT_DOWN_PAYMENT_sum':'amount_feautres', 'prev_AMT_DOWN_PAYMENT_mean':'amount_feautres', 'prev_AMT_DOWN_PAYMENT_max':'amount_feautres', 'prev_AMT_DOWN_PAYMENT_min':'amount_feautres',\n",
    "               }"
   ]
  },
  {
   "cell_type": "code",
   "execution_count": 11,
   "metadata": {
    "collapsed": true
   },
   "outputs": [],
   "source": [
    "category_features = [f for f in feature_dict if feature_dict[f] == 'category_features' and f in train_s.columns ]\n",
    "boolean_features = [f for f in feature_dict if feature_dict[f] == 'boolean_features'  and f in train_s.columns ]\n",
    "amount_feautres = [f for f in feature_dict if feature_dict[f] == 'amount_feautres'  and f in train_s.columns ]\n",
    "normal_features = [f for f in feature_dict if feature_dict[f] == 'normal_features'  and f in train_s.columns ]\n",
    "count_features = [f for f in feature_dict if feature_dict[f] == 'count_features'  and f in train_s.columns ]\n",
    "\n",
    "del train_s"
   ]
  },
  {
   "cell_type": "code",
   "execution_count": 12,
   "metadata": {},
   "outputs": [
    {
     "data": {
      "text/plain": [
       "55"
      ]
     },
     "execution_count": 12,
     "metadata": {},
     "output_type": "execute_result"
    }
   ],
   "source": [
    "len(category_features)"
   ]
  },
  {
   "cell_type": "code",
   "execution_count": 13,
   "metadata": {
    "collapsed": true
   },
   "outputs": [],
   "source": [
    "minmax = MinMaxScaler().fit(pd.concat([train[amount_feautres+count_features],test[amount_feautres+count_features]],axis = 0).fillna(0))\n",
    "\n",
    "train[amount_feautres+count_features] = pd.DataFrame(minmax.transform(train[amount_feautres+count_features].fillna(0)), columns = amount_feautres+count_features)\n",
    "test[amount_feautres+count_features] = pd.DataFrame(minmax.transform(test[amount_feautres+count_features].fillna(0)), columns = amount_feautres+count_features)\n"
   ]
  },
  {
   "cell_type": "code",
   "execution_count": 14,
   "metadata": {
    "collapsed": true
   },
   "outputs": [],
   "source": [
    "# bin\n",
    "bins = 5\n",
    "for rate in normal_features+amount_feautres+count_features:\n",
    "    qcut = pd.qcut(train[rate],bins,retbins=True,duplicates='drop')[1]\n",
    "    if len(qcut) <=2:\n",
    "        continue\n",
    "    qcut[0] = 0\n",
    "    qcut[-1] = 2\n",
    "    train[rate +'_bin'] = [rate + '_' + str(np.where(qcut>= r)[0][0]) if not np.isnan(r) else 'miss' for r in train[rate]]\n",
    "    test[rate +'_bin'] =  [rate + '_' +  str(np.where(qcut>= r)[0][0]) if not np.isnan(r) else 'miss' for r in test[rate]]\n",
    "    category_features.append(rate +'_bin')\n"
   ]
  },
  {
   "cell_type": "code",
   "execution_count": 15,
   "metadata": {},
   "outputs": [
    {
     "data": {
      "text/plain": [
       "[('cash_CNT_INSTALMENT_set', 47629),\n",
       " ('prev_PRODUCT_COMBINATION_collect_set', 17934),\n",
       " ('prev_HOUR_APPR_PROCESS_START_collect_set', 12774),\n",
       " ('prev_NAME_GOODS_CATEGORY_collect_set', 4714),\n",
       " ('prev_NAME_CASH_LOAN_PURPOSE_collect_set', 1133),\n",
       " ('prev_NAME_SELLER_INDUSTRY_collect_set', 551),\n",
       " ('prev_NAME_TYPE_SUITE_collect_set', 245),\n",
       " ('prev_WEEKDAY_APPR_PROCESS_START_collect_set', 214),\n",
       " ('prev_CODE_REJECT_REASON_collect_set', 206),\n",
       " ('prev_CHANNEL_TYPE_collect_set', 178),\n",
       " ('bureau_CREDIT_TYPE_set', 165),\n",
       " ('bureau_latest_STATUS_set', 114),\n",
       " ('ORGANIZATION_TYPE', 58),\n",
       " ('cash_NAME_CONTRACT_STATUS_set', 47),\n",
       " ('prev_NAME_YIELD_GROUP_collect_set', 41),\n",
       " ('prev_NAME_PORTFOLIO_collect_set', 37),\n",
       " ('cash_NAME_CONTRACT_STATUS_latest', 28),\n",
       " ('prev_NAME_GOODS_CATEGORY_latest', 27),\n",
       " ('prev_NAME_CASH_LOAN_PURPOSE_latest', 26),\n",
       " ('prev_HOUR_APPR_PROCESS_START_latest', 25),\n",
       " ('HOUR_APPR_PROCESS_START', 24),\n",
       " ('prev_NAME_CLIENT_TYPE_collect_set', 20),\n",
       " ('OCCUPATION_TYPE', 19),\n",
       " ('prev_PRODUCT_COMBINATION_latest', 18),\n",
       " ('prev_NAME_CONTRACT_STATUS_collect_set', 16),\n",
       " ('prev_NAME_PAYMENT_TYPE_collect_set', 16),\n",
       " ('bureau_CREDIT_ACTIVE_set', 13),\n",
       " ('prev_NAME_SELLER_INDUSTRY_latest', 12),\n",
       " ('prev_CODE_REJECT_REASON_latest', 10),\n",
       " ('prev_NAME_PRODUCT_TYPE_collect_set', 10),\n",
       " ('prev_CHANNEL_TYPE_latest', 9),\n",
       " ('NAME_TYPE_SUITE', 8),\n",
       " ('NAME_INCOME_TYPE', 8),\n",
       " ('WALLSMATERIAL_MODE', 8),\n",
       " ('bureau_CREDIT_CURRENCY_set', 8),\n",
       " ('prev_WEEKDAY_APPR_PROCESS_START_latest', 8),\n",
       " ('prev_NAME_TYPE_SUITE_latest', 8),\n",
       " ('WEEKDAY_APPR_PROCESS_START', 7),\n",
       " ('APARTMENTS_AVG_bin', 7),\n",
       " ('BASEMENTAREA_AVG_bin', 7),\n",
       " ('YEARS_BEGINEXPLUATATION_AVG_bin', 7),\n",
       " ('YEARS_BUILD_AVG_bin', 7),\n",
       " ('COMMONAREA_AVG_bin', 7),\n",
       " ('ENTRANCES_AVG_bin', 7),\n",
       " ('LANDAREA_AVG_bin', 7),\n",
       " ('LIVINGAPARTMENTS_AVG_bin', 7),\n",
       " ('LIVINGAREA_AVG_bin', 7),\n",
       " ('APARTMENTS_MODE_bin', 7),\n",
       " ('BASEMENTAREA_MODE_bin', 7),\n",
       " ('YEARS_BEGINEXPLUATATION_MODE_bin', 7),\n",
       " ('YEARS_BUILD_MODE_bin', 7),\n",
       " ('COMMONAREA_MODE_bin', 7),\n",
       " ('ENTRANCES_MODE_bin', 7),\n",
       " ('LANDAREA_MODE_bin', 7),\n",
       " ('LIVINGAPARTMENTS_MODE_bin', 7),\n",
       " ('LIVINGAREA_MODE_bin', 7),\n",
       " ('APARTMENTS_MEDI_bin', 7),\n",
       " ('BASEMENTAREA_MEDI_bin', 7),\n",
       " ('YEARS_BEGINEXPLUATATION_MEDI_bin', 7),\n",
       " ('YEARS_BUILD_MEDI_bin', 7),\n",
       " ('COMMONAREA_MEDI_bin', 7),\n",
       " ('ENTRANCES_MEDI_bin', 7),\n",
       " ('LANDAREA_MEDI_bin', 7),\n",
       " ('LIVINGAPARTMENTS_MEDI_bin', 7),\n",
       " ('LIVINGAREA_MEDI_bin', 7),\n",
       " ('TOTALAREA_MODE_bin', 7),\n",
       " ('NAME_FAMILY_STATUS', 6),\n",
       " ('NAME_HOUSING_TYPE', 6),\n",
       " ('prev_NAME_PORTFOLIO_latest', 6),\n",
       " ('prev_NAME_YIELD_GROUP_latest', 6),\n",
       " ('EXT_SOURCE_1_bin', 6),\n",
       " ('EXT_SOURCE_2_bin', 6),\n",
       " ('EXT_SOURCE_3_bin', 6),\n",
       " ('FLOORSMAX_AVG_bin', 6),\n",
       " ('FLOORSMIN_AVG_bin', 6),\n",
       " ('FLOORSMAX_MODE_bin', 6),\n",
       " ('FLOORSMIN_MODE_bin', 6),\n",
       " ('FLOORSMAX_MEDI_bin', 6),\n",
       " ('FLOORSMIN_MEDI_bin', 6),\n",
       " ('prev_RATE_DOWN_PAYMENT_max_bin', 6),\n",
       " ('prev_RATE_DOWN_PAYMENT_mean_bin', 6),\n",
       " ('prev_RATE_DOWN_PAYMENT_median_bin', 6),\n",
       " ('prev_RATE_INTEREST_PRIMARY_min_bin', 6),\n",
       " ('prev_RATE_INTEREST_PRIMARY_max_bin', 6),\n",
       " ('prev_RATE_INTEREST_PRIMARY_mean_bin', 6),\n",
       " ('prev_RATE_INTEREST_PRIMARY_median_bin', 6),\n",
       " ('prev_RATE_INTEREST_PRIMARY_latest_bin', 6),\n",
       " ('prev_RATE_INTEREST_PRIVILEGED_min_bin', 6),\n",
       " ('prev_RATE_INTEREST_PRIVILEGED_max_bin', 6),\n",
       " ('prev_RATE_INTEREST_PRIVILEGED_mean_bin', 6),\n",
       " ('prev_RATE_INTEREST_PRIVILEGED_median_bin', 6),\n",
       " ('prev_RATE_INTEREST_PRIVILEGED_latest_bin', 6),\n",
       " ('AMT_INCOME_TOTAL_bin', 6),\n",
       " ('AMT_CREDIT_bin', 6),\n",
       " ('AMT_ANNUITY_bin', 6),\n",
       " ('AMT_GOODS_PRICE_bin', 6),\n",
       " ('DAYS_BIRTH_bin', 6),\n",
       " ('DAYS_EMPLOYED_bin', 6),\n",
       " ('DAYS_REGISTRATION_bin', 6),\n",
       " ('DAYS_ID_PUBLISH_bin', 6),\n",
       " ('bureau_DAYS_CREDIT_ENDDATE_sum_bin', 6),\n",
       " ('bureau_DAYS_CREDIT_UPDATE_sum_bin', 6),\n",
       " ('bureau_AMT_CREDIT_SUM_sum_bin', 6),\n",
       " ('bureau_AMT_CREDIT_SUM_DEBT_sum_bin', 6),\n",
       " ('bureau_DAYS_CREDIT_max_bin', 6),\n",
       " ('prev_DAYS_DECISION_min_bin', 6),\n",
       " ('prev_DAYS_DECISION_max_bin', 6),\n",
       " ('prev_DAYS_DECISION_mean_bin', 6),\n",
       " ('prev_DAYS_DECISION_median_bin', 6),\n",
       " ('prev_DAYS_DECISION_latest_bin', 6),\n",
       " ('prev_SELLERPLACE_AREA_max_bin', 6),\n",
       " ('prev_SELLERPLACE_AREA_mean_bin', 6),\n",
       " ('prev_DAYS_FIRST_DUE_min_bin', 6),\n",
       " ('prev_DAYS_FIRST_DUE_max_bin', 6),\n",
       " ('prev_DAYS_FIRST_DUE_mean_bin', 6),\n",
       " ('prev_DAYS_FIRST_DUE_median_bin', 6),\n",
       " ('prev_DAYS_FIRST_DUE_latest_bin', 6),\n",
       " ('prev_DAYS_LAST_DUE_1ST_VERSION_min_bin', 6),\n",
       " ('prev_DAYS_LAST_DUE_1ST_VERSION_mean_bin', 6),\n",
       " ('prev_DAYS_LAST_DUE_1ST_VERSION_median_bin', 6),\n",
       " ('prev_DAYS_LAST_DUE_1ST_VERSION_latest_bin', 6),\n",
       " ('prev_DAYS_LAST_DUE_min_bin', 6),\n",
       " ('prev_DAYS_LAST_DUE_mean_bin', 6),\n",
       " ('prev_DAYS_LAST_DUE_median_bin', 6),\n",
       " ('prev_DAYS_TERMINATION_min_bin', 6),\n",
       " ('prev_DAYS_TERMINATION_mean_bin', 6),\n",
       " ('prev_DAYS_TERMINATION_median_bin', 6),\n",
       " ('prev_AMT_ANNUITY_sum_bin', 6),\n",
       " ('prev_AMT_ANNUITY_mean_bin', 6),\n",
       " ('prev_AMT_ANNUITY_max_bin', 6),\n",
       " ('prev_AMT_ANNUITY_min_bin', 6),\n",
       " ('prev_AMT_APPLICATION_sum_bin', 6),\n",
       " ('prev_AMT_APPLICATION_mean_bin', 6),\n",
       " ('prev_AMT_APPLICATION_max_bin', 6),\n",
       " ('prev_AMT_CREDIT_sum_bin', 6),\n",
       " ('prev_AMT_CREDIT_mean_bin', 6),\n",
       " ('prev_AMT_CREDIT_max_bin', 6),\n",
       " ('prev_AMT_GOODS_PRICE_sum_bin', 6),\n",
       " ('prev_AMT_GOODS_PRICE_mean_bin', 6),\n",
       " ('prev_AMT_GOODS_PRICE_max_bin', 6),\n",
       " ('prev_AMT_GOODS_PRICE_min_bin', 6),\n",
       " ('prev_AMT_DOWN_PAYMENT_sum_bin', 6),\n",
       " ('prev_AMT_DOWN_PAYMENT_mean_bin', 6),\n",
       " ('bureau_bureau_cnt_bin', 6),\n",
       " ('cash_MONTHS_BALANCE_min_bin', 6),\n",
       " ('cash_MONTHS_BALANCE_max_bin', 6),\n",
       " ('cash_MONTHS_BALANCE_cnt_bin', 6),\n",
       " ('cash_CNT_INSTALMENT_min_bin', 6),\n",
       " ('cash_CNT_INSTALMENT_max_bin', 6),\n",
       " ('cash_CNT_INSTALMENT_FUTURE_max_bin', 6),\n",
       " ('prev_PREV_cnt_bin', 6),\n",
       " ('prev_HOUR_APPR_PROCESS_START_median_bin', 6),\n",
       " ('prev_WEEKDAY_APPR_PROCESS_START_countd_bin', 6),\n",
       " ('prev_HOUR_APPR_PROCESS_START_countd_bin', 6),\n",
       " ('prev_PRODUCT_COMBINATION_countd_bin', 6),\n",
       " ('NAME_EDUCATION_TYPE', 5),\n",
       " ('FONDKAPREMONT_MODE', 5),\n",
       " ('prev_NAME_CONTRACT_STATUS_latest', 5),\n",
       " ('prev_NAME_PAYMENT_TYPE_latest', 5),\n",
       " ('prev_NAME_CLIENT_TYPE_latest', 5),\n",
       " ('REGION_POPULATION_RELATIVE_bin', 5),\n",
       " ('ELEVATORS_AVG_bin', 5),\n",
       " ('NONLIVINGAPARTMENTS_AVG_bin', 5),\n",
       " ('NONLIVINGAREA_AVG_bin', 5),\n",
       " ('NONLIVINGAREA_MODE_bin', 5),\n",
       " ('NONLIVINGAPARTMENTS_MEDI_bin', 5),\n",
       " ('NONLIVINGAREA_MEDI_bin', 5),\n",
       " ('prev_RATE_DOWN_PAYMENT_latest_bin', 5),\n",
       " ('bureau_DAYS_ENDDATE_FACT_sum_bin', 5),\n",
       " ('bureau_DAYS_CREDIT_sum_bin', 5),\n",
       " ('prev_SELLERPLACE_AREA_median_bin', 5),\n",
       " ('prev_SELLERPLACE_AREA_latest_bin', 5),\n",
       " ('prev_DAYS_LAST_DUE_1ST_VERSION_max_bin', 5),\n",
       " ('prev_DAYS_LAST_DUE_latest_bin', 5),\n",
       " ('prev_AMT_DOWN_PAYMENT_max_bin', 5),\n",
       " ('CNT_FAM_MEMBERS_bin', 5),\n",
       " ('DAYS_LAST_PHONE_CHANGE_bin', 5),\n",
       " ('AMT_REQ_CREDIT_BUREAU_YEAR_bin', 5),\n",
       " ('prev_NAME_GOODS_CATEGORY_countd_bin', 5),\n",
       " ('prev_NAME_TYPE_SUITE_countd_bin', 5),\n",
       " ('prev_NAME_PORTFOLIO_countd_bin', 5),\n",
       " ('prev_CHANNEL_TYPE_countd_bin', 5),\n",
       " ('prev_NAME_SELLER_INDUSTRY_countd_bin', 5),\n",
       " ('prev_NAME_YIELD_GROUP_countd_bin', 5),\n",
       " ('HOUSETYPE_MODE', 4),\n",
       " ('prev_NAME_PRODUCT_TYPE_latest', 4),\n",
       " ('ELEVATORS_MODE_bin', 4),\n",
       " ('NONLIVINGAPARTMENTS_MODE_bin', 4),\n",
       " ('ELEVATORS_MEDI_bin', 4),\n",
       " ('prev_RATE_DOWN_PAYMENT_min_bin', 4),\n",
       " ('bureau_CREDIT_ACTIVE_cnt_bin', 4),\n",
       " ('bureau_CREDIT_TYPE_cnt_bin', 4),\n",
       " ('prev_SELLERPLACE_AREA_min_bin', 4),\n",
       " ('prev_DAYS_LAST_DUE_max_bin', 4),\n",
       " ('prev_DAYS_TERMINATION_max_bin', 4),\n",
       " ('prev_DAYS_TERMINATION_latest_bin', 4),\n",
       " ('prev_AMT_APPLICATION_min_bin', 4),\n",
       " ('prev_AMT_CREDIT_min_bin', 4),\n",
       " ('prev_AMT_DOWN_PAYMENT_min_bin', 4),\n",
       " ('OBS_30_CNT_SOCIAL_CIRCLE_bin', 4),\n",
       " ('OBS_60_CNT_SOCIAL_CIRCLE_bin', 4),\n",
       " ('prev_AMT_DOWN_PAYMENT_cnt_positive_bin', 4),\n",
       " ('prev_NAME_CASH_LOAN_PURPOSE_countd_bin', 4),\n",
       " ('prev_NAME_CONTRACT_STATUS_countd_bin', 4),\n",
       " ('prev_NAME_PAYMENT_TYPE_countd_bin', 4),\n",
       " ('prev_CODE_REJECT_REASON_countd_bin', 4),\n",
       " ('prev_NAME_CLIENT_TYPE_countd_bin', 4),\n",
       " ('prev_NAME_PRODUCT_TYPE_countd_bin', 4),\n",
       " ('CODE_GENDER', 3),\n",
       " ('REGION_RATING_CLIENT', 3),\n",
       " ('REGION_RATING_CLIENT_W_CITY', 3),\n",
       " ('EMERGENCYSTATE_MODE', 3),\n",
       " ('OWN_CAR_AGE_bin', 3),\n",
       " ('bureau_AMT_CREDIT_SUM_LIMIT_sum_bin', 3),\n",
       " ('bureau_AMT_CREDIT_MAX_OVERDUE_sum_bin', 3),\n",
       " ('bureau_MONTHS_BALANCE_cnt_sum_bin', 3),\n",
       " ('bureau_STATUS_cntd_sum_bin', 3),\n",
       " ('bureau_AMT_CREDIT_MAX_OVERDUE_max_bin', 3),\n",
       " ('bureau_STATUS_cntd_max_bin', 3),\n",
       " ('bureau_CREDIT_CURRENCY_cnt_bin', 3),\n",
       " ('bureau_STATUS_set_cnt_bin', 3),\n",
       " ('bureau_latest_STATUS_cnt_bin', 3),\n",
       " ('prev_DAYS_FIRST_DRAWING_min_bin', 3),\n",
       " ('prev_DAYS_FIRST_DRAWING_mean_bin', 3),\n",
       " ('prev_DAYS_FIRST_DRAWING_latest_bin', 3),\n",
       " ('CNT_CHILDREN_bin', 3),\n",
       " ('cash_NAME_CONTRACT_STATUS_cntd_bin', 3),\n",
       " ('NAME_CONTRACT_TYPE', 2),\n",
       " ('bureau_STATUS_set', 2)]"
      ]
     },
     "execution_count": 15,
     "metadata": {},
     "output_type": "execute_result"
    }
   ],
   "source": [
    "\n",
    "category_features_cardinal = {}\n",
    "category_features_low_cardinal = []\n",
    "category_features_high_cardinal = []\n",
    "for f in category_features:\n",
    "    l = train[f].unique().shape[0]\n",
    "    category_features_cardinal[f] = train[f].unique().shape[0]\n",
    "    if l <= 128 :\n",
    "        category_features_low_cardinal.append(f)\n",
    "    else :\n",
    "        category_features_high_cardinal.append(f)\n",
    "\n",
    "import operator\n",
    "sorted(category_features_cardinal.items(), key=operator.itemgetter(1), reverse = True)"
   ]
  },
  {
   "cell_type": "code",
   "execution_count": 16,
   "metadata": {},
   "outputs": [
    {
     "data": {
      "text/plain": [
       "TargetEncoder(cols=['NAME_CONTRACT_TYPE', 'CODE_GENDER', 'NAME_TYPE_SUITE', 'NAME_INCOME_TYPE', 'NAME_EDUCATION_TYPE', 'NAME_FAMILY_STATUS', 'NAME_HOUSING_TYPE', 'OCCUPATION_TYPE', 'REGION_RATING_CLIENT', 'REGION_RATING_CLIENT_W_CITY', 'WEEKDAY_APPR_PROCESS_START', 'HOUR_APPR_PROCESS_START', 'ORGANIZATION_TYPE', ...RODUCT_COMBINATION_POS_other_with_interest', 'prev_PRODUCT_COMBINATION_POS_others_without_interest'],\n",
       "       drop_invariant=False, handle_unknown='impute', impute_missing=True,\n",
       "       min_samples_leaf=1, return_df=True, smoothing=1, verbose=0)"
      ]
     },
     "execution_count": 16,
     "metadata": {},
     "output_type": "execute_result"
    },
    {
     "data": {
      "text/plain": [
       "OneHotEncoder(cols=['NAME_CONTRACT_TYPE', 'CODE_GENDER', 'NAME_TYPE_SUITE', 'NAME_INCOME_TYPE', 'NAME_EDUCATION_TYPE', 'NAME_FAMILY_STATUS', 'NAME_HOUSING_TYPE', 'OCCUPATION_TYPE', 'REGION_RATING_CLIENT', 'REGION_RATING_CLIENT_W_CITY', 'WEEKDAY_APPR_PROCESS_START', 'HOUR_APPR_PROCESS_START', 'ORGANIZATION_TYPE', ...RODUCT_COMBINATION_POS_other_with_interest', 'prev_PRODUCT_COMBINATION_POS_others_without_interest'],\n",
       "       drop_invariant=False, handle_unknown='impute', impute_missing=True,\n",
       "       return_df=True, verbose=0)"
      ]
     },
     "execution_count": 16,
     "metadata": {},
     "output_type": "execute_result"
    },
    {
     "data": {
      "text/plain": [
       "OrdinalEncoder(cols=['NAME_CONTRACT_TYPE', 'CODE_GENDER', 'NAME_TYPE_SUITE', 'NAME_INCOME_TYPE', 'NAME_EDUCATION_TYPE', 'NAME_FAMILY_STATUS', 'NAME_HOUSING_TYPE', 'OCCUPATION_TYPE', 'REGION_RATING_CLIENT', 'REGION_RATING_CLIENT_W_CITY', 'WEEKDAY_APPR_PROCESS_START', 'HOUR_APPR_PROCESS_START', 'ORGANIZATION_TYPE', ...LER_INDUSTRY_countd_bin', 'prev_NAME_YIELD_GROUP_countd_bin', 'prev_PRODUCT_COMBINATION_countd_bin'],\n",
       "        drop_invariant=False, handle_unknown='impute', impute_missing=True,\n",
       "        mapping=[{'col': 'NAME_CONTRACT_TYPE', 'mapping': [('Cash loans', 0), ('Revolving loans', 1)]}, {'col': 'CODE_GENDER', 'mapping': [('M', 0), ('F', 1), ('XNA', 2)]}, {'col': 'NAME_TYPE_SUITE', 'mapping': [('Unaccompanied', 0), ('Family', 1), ('Spouse, partner', 2), ('Children', 3), ('Other_A', 4), (n...countd_4', 3), ('prev_PRODUCT_COMBINATION_countd_2', 4), ('prev_PRODUCT_COMBINATION_countd_0', 5)]}],\n",
       "        return_df=True, verbose=0)"
      ]
     },
     "execution_count": 16,
     "metadata": {},
     "output_type": "execute_result"
    }
   ],
   "source": [
    "taget_encoder = ce.TargetEncoder(cols=category_features_low_cardinal + boolean_features)\n",
    "taget_encoder.fit(train[category_features_low_cardinal + boolean_features], train.TARGET)\n",
    "\n",
    "onehot_encoder = ce.OneHotEncoder(cols = category_features_low_cardinal + boolean_features)\n",
    "onehot_encoder.fit(train[category_features_low_cardinal + boolean_features])\n",
    "\n",
    "ordinal_encoder = ce.OrdinalEncoder(cols = category_features_low_cardinal)\n",
    "ordinal_encoder.fit(train[category_features_low_cardinal])\n",
    "\n",
    "X_train = pd.concat([\n",
    "    train[normal_features+amount_feautres+count_features].fillna(0),\n",
    "    taget_encoder.transform(train[category_features_low_cardinal + boolean_features]),\n",
    "    onehot_encoder.transform(train[category_features_low_cardinal + boolean_features]),\n",
    "    ordinal_encoder.transform(train[category_features_low_cardinal]),\n",
    "], axis = 1)\n",
    "y_train = train.TARGET\n",
    "\n",
    "\n",
    "X_test = pd.concat([\n",
    "    test[normal_features+amount_feautres+count_features].fillna(0),\n",
    "    taget_encoder.transform(test[category_features_low_cardinal + boolean_features]),\n",
    "    onehot_encoder.transform(test[category_features_low_cardinal + boolean_features]),\n",
    "    ordinal_encoder.transform(test[category_features_low_cardinal]),\n",
    "], axis = 1)"
   ]
  },
  {
   "cell_type": "code",
   "execution_count": 17,
   "metadata": {
    "collapsed": true
   },
   "outputs": [],
   "source": [
    "pd.concat([X_train,pd.DataFrame(y_train, columns = ['TARGET'])], axis = 1).to_csv('./data/input/train.csv', index = False)\n",
    "# y_train.to_csv('./data/input/y_train.csv', index = False)\n",
    "X_test.to_csv('./data/input/test.csv', index = False)\n"
   ]
  },
  {
   "cell_type": "code",
   "execution_count": 18,
   "metadata": {},
   "outputs": [
    {
     "data": {
      "text/plain": [
       "(307511, 3039)"
      ]
     },
     "execution_count": 18,
     "metadata": {},
     "output_type": "execute_result"
    },
    {
     "data": {
      "text/plain": [
       "2821"
      ]
     },
     "execution_count": 18,
     "metadata": {},
     "output_type": "execute_result"
    },
    {
     "data": {
      "text/html": [
       "<div>\n",
       "<style>\n",
       "    .dataframe thead tr:only-child th {\n",
       "        text-align: right;\n",
       "    }\n",
       "\n",
       "    .dataframe thead th {\n",
       "        text-align: left;\n",
       "    }\n",
       "\n",
       "    .dataframe tbody tr th {\n",
       "        vertical-align: top;\n",
       "    }\n",
       "</style>\n",
       "<table border=\"1\" class=\"dataframe\">\n",
       "  <thead>\n",
       "    <tr style=\"text-align: right;\">\n",
       "      <th></th>\n",
       "      <th>REGION_POPULATION_RELATIVE</th>\n",
       "      <th>EXT_SOURCE_1</th>\n",
       "      <th>EXT_SOURCE_2</th>\n",
       "      <th>EXT_SOURCE_3</th>\n",
       "      <th>APARTMENTS_AVG</th>\n",
       "      <th>BASEMENTAREA_AVG</th>\n",
       "      <th>YEARS_BEGINEXPLUATATION_AVG</th>\n",
       "      <th>YEARS_BUILD_AVG</th>\n",
       "      <th>COMMONAREA_AVG</th>\n",
       "      <th>ELEVATORS_AVG</th>\n",
       "      <th>...</th>\n",
       "      <th>prev_NAME_PAYMENT_TYPE_countd_bin</th>\n",
       "      <th>prev_CODE_REJECT_REASON_countd_bin</th>\n",
       "      <th>prev_NAME_TYPE_SUITE_countd_bin</th>\n",
       "      <th>prev_NAME_CLIENT_TYPE_countd_bin</th>\n",
       "      <th>prev_NAME_PORTFOLIO_countd_bin</th>\n",
       "      <th>prev_NAME_PRODUCT_TYPE_countd_bin</th>\n",
       "      <th>prev_CHANNEL_TYPE_countd_bin</th>\n",
       "      <th>prev_NAME_SELLER_INDUSTRY_countd_bin</th>\n",
       "      <th>prev_NAME_YIELD_GROUP_countd_bin</th>\n",
       "      <th>prev_PRODUCT_COMBINATION_countd_bin</th>\n",
       "    </tr>\n",
       "  </thead>\n",
       "  <tbody>\n",
       "    <tr>\n",
       "      <th>0</th>\n",
       "      <td>0.018801</td>\n",
       "      <td>0.083037</td>\n",
       "      <td>0.262949</td>\n",
       "      <td>0.139376</td>\n",
       "      <td>0.0247</td>\n",
       "      <td>0.0369</td>\n",
       "      <td>0.9722</td>\n",
       "      <td>0.6192</td>\n",
       "      <td>0.0143</td>\n",
       "      <td>0.00</td>\n",
       "      <td>...</td>\n",
       "      <td>0</td>\n",
       "      <td>0</td>\n",
       "      <td>0</td>\n",
       "      <td>0</td>\n",
       "      <td>0</td>\n",
       "      <td>0</td>\n",
       "      <td>0</td>\n",
       "      <td>0</td>\n",
       "      <td>0</td>\n",
       "      <td>0</td>\n",
       "    </tr>\n",
       "    <tr>\n",
       "      <th>1</th>\n",
       "      <td>0.003541</td>\n",
       "      <td>0.311267</td>\n",
       "      <td>0.622246</td>\n",
       "      <td>0.000000</td>\n",
       "      <td>0.0959</td>\n",
       "      <td>0.0529</td>\n",
       "      <td>0.9851</td>\n",
       "      <td>0.7960</td>\n",
       "      <td>0.0605</td>\n",
       "      <td>0.08</td>\n",
       "      <td>...</td>\n",
       "      <td>1</td>\n",
       "      <td>0</td>\n",
       "      <td>1</td>\n",
       "      <td>1</td>\n",
       "      <td>1</td>\n",
       "      <td>1</td>\n",
       "      <td>1</td>\n",
       "      <td>1</td>\n",
       "      <td>1</td>\n",
       "      <td>1</td>\n",
       "    </tr>\n",
       "    <tr>\n",
       "      <th>2</th>\n",
       "      <td>0.010032</td>\n",
       "      <td>0.000000</td>\n",
       "      <td>0.555912</td>\n",
       "      <td>0.729567</td>\n",
       "      <td>0.0000</td>\n",
       "      <td>0.0000</td>\n",
       "      <td>0.0000</td>\n",
       "      <td>0.0000</td>\n",
       "      <td>0.0000</td>\n",
       "      <td>0.00</td>\n",
       "      <td>...</td>\n",
       "      <td>0</td>\n",
       "      <td>0</td>\n",
       "      <td>0</td>\n",
       "      <td>0</td>\n",
       "      <td>0</td>\n",
       "      <td>0</td>\n",
       "      <td>0</td>\n",
       "      <td>0</td>\n",
       "      <td>0</td>\n",
       "      <td>0</td>\n",
       "    </tr>\n",
       "    <tr>\n",
       "      <th>3</th>\n",
       "      <td>0.008019</td>\n",
       "      <td>0.000000</td>\n",
       "      <td>0.650442</td>\n",
       "      <td>0.000000</td>\n",
       "      <td>0.0000</td>\n",
       "      <td>0.0000</td>\n",
       "      <td>0.0000</td>\n",
       "      <td>0.0000</td>\n",
       "      <td>0.0000</td>\n",
       "      <td>0.00</td>\n",
       "      <td>...</td>\n",
       "      <td>1</td>\n",
       "      <td>1</td>\n",
       "      <td>2</td>\n",
       "      <td>1</td>\n",
       "      <td>2</td>\n",
       "      <td>1</td>\n",
       "      <td>1</td>\n",
       "      <td>1</td>\n",
       "      <td>2</td>\n",
       "      <td>2</td>\n",
       "    </tr>\n",
       "    <tr>\n",
       "      <th>4</th>\n",
       "      <td>0.028663</td>\n",
       "      <td>0.000000</td>\n",
       "      <td>0.322738</td>\n",
       "      <td>0.000000</td>\n",
       "      <td>0.0000</td>\n",
       "      <td>0.0000</td>\n",
       "      <td>0.0000</td>\n",
       "      <td>0.0000</td>\n",
       "      <td>0.0000</td>\n",
       "      <td>0.00</td>\n",
       "      <td>...</td>\n",
       "      <td>1</td>\n",
       "      <td>0</td>\n",
       "      <td>2</td>\n",
       "      <td>1</td>\n",
       "      <td>1</td>\n",
       "      <td>2</td>\n",
       "      <td>2</td>\n",
       "      <td>1</td>\n",
       "      <td>1</td>\n",
       "      <td>3</td>\n",
       "    </tr>\n",
       "  </tbody>\n",
       "</table>\n",
       "<p>5 rows × 3039 columns</p>\n",
       "</div>"
      ],
      "text/plain": [
       "   REGION_POPULATION_RELATIVE  EXT_SOURCE_1  EXT_SOURCE_2  EXT_SOURCE_3  \\\n",
       "0                    0.018801      0.083037      0.262949      0.139376   \n",
       "1                    0.003541      0.311267      0.622246      0.000000   \n",
       "2                    0.010032      0.000000      0.555912      0.729567   \n",
       "3                    0.008019      0.000000      0.650442      0.000000   \n",
       "4                    0.028663      0.000000      0.322738      0.000000   \n",
       "\n",
       "   APARTMENTS_AVG  BASEMENTAREA_AVG  YEARS_BEGINEXPLUATATION_AVG  \\\n",
       "0          0.0247            0.0369                       0.9722   \n",
       "1          0.0959            0.0529                       0.9851   \n",
       "2          0.0000            0.0000                       0.0000   \n",
       "3          0.0000            0.0000                       0.0000   \n",
       "4          0.0000            0.0000                       0.0000   \n",
       "\n",
       "   YEARS_BUILD_AVG  COMMONAREA_AVG  ELEVATORS_AVG  \\\n",
       "0           0.6192          0.0143           0.00   \n",
       "1           0.7960          0.0605           0.08   \n",
       "2           0.0000          0.0000           0.00   \n",
       "3           0.0000          0.0000           0.00   \n",
       "4           0.0000          0.0000           0.00   \n",
       "\n",
       "                  ...                   prev_NAME_PAYMENT_TYPE_countd_bin  \\\n",
       "0                 ...                                                   0   \n",
       "1                 ...                                                   1   \n",
       "2                 ...                                                   0   \n",
       "3                 ...                                                   1   \n",
       "4                 ...                                                   1   \n",
       "\n",
       "   prev_CODE_REJECT_REASON_countd_bin  prev_NAME_TYPE_SUITE_countd_bin  \\\n",
       "0                                   0                                0   \n",
       "1                                   0                                1   \n",
       "2                                   0                                0   \n",
       "3                                   1                                2   \n",
       "4                                   0                                2   \n",
       "\n",
       "   prev_NAME_CLIENT_TYPE_countd_bin  prev_NAME_PORTFOLIO_countd_bin  \\\n",
       "0                                 0                               0   \n",
       "1                                 1                               1   \n",
       "2                                 0                               0   \n",
       "3                                 1                               2   \n",
       "4                                 1                               1   \n",
       "\n",
       "   prev_NAME_PRODUCT_TYPE_countd_bin  prev_CHANNEL_TYPE_countd_bin  \\\n",
       "0                                  0                             0   \n",
       "1                                  1                             1   \n",
       "2                                  0                             0   \n",
       "3                                  1                             1   \n",
       "4                                  2                             2   \n",
       "\n",
       "   prev_NAME_SELLER_INDUSTRY_countd_bin  prev_NAME_YIELD_GROUP_countd_bin  \\\n",
       "0                                     0                                 0   \n",
       "1                                     1                                 1   \n",
       "2                                     0                                 0   \n",
       "3                                     1                                 2   \n",
       "4                                     1                                 1   \n",
       "\n",
       "   prev_PRODUCT_COMBINATION_countd_bin  \n",
       "0                                    0  \n",
       "1                                    1  \n",
       "2                                    0  \n",
       "3                                    2  \n",
       "4                                    3  \n",
       "\n",
       "[5 rows x 3039 columns]"
      ]
     },
     "execution_count": 18,
     "metadata": {},
     "output_type": "execute_result"
    }
   ],
   "source": [
    "X_train.shape\n",
    "len(np.unique(X_train.columns))\n",
    "X_train.head()"
   ]
  },
  {
   "cell_type": "code",
   "execution_count": 19,
   "metadata": {},
   "outputs": [
    {
     "data": {
      "text/plain": [
       "LogisticRegression(C=0.1, class_weight=None, dual=False, fit_intercept=True,\n",
       "          intercept_scaling=1, max_iter=100, multi_class='ovr', n_jobs=1,\n",
       "          penalty='l1', random_state=42, solver='liblinear', tol=0.0001,\n",
       "          verbose=0, warm_start=False)"
      ]
     },
     "execution_count": 19,
     "metadata": {},
     "output_type": "execute_result"
    },
    {
     "data": {
      "text/plain": [
       "(0.77632119247234432, 0.76845013393429484)"
      ]
     },
     "execution_count": 19,
     "metadata": {},
     "output_type": "execute_result"
    }
   ],
   "source": [
    "X_train_cv, X_test_cv, y_train_cv, y_test_cv = train_test_split(X_train, y_train, test_size = 0.2, random_state = 42)\n",
    "\n",
    "lr = LogisticRegression(C = 0.1, penalty = 'l1', random_state = 42)\n",
    "\n",
    "# pipeline = Pipeline([\n",
    "#     ('select', SelectKBest(chi2, k=300)),\n",
    "#     ('clf', lr)])\n",
    "\n",
    "lr.fit(X_train_cv, y_train_cv)\n",
    "roc_auc_score(y_train_cv, lr.predict_proba(X_train_cv)[:,1]), roc_auc_score(y_test_cv, lr.predict_proba(X_test_cv)[:,1])"
   ]
  },
  {
   "cell_type": "code",
   "execution_count": 20,
   "metadata": {},
   "outputs": [
    {
     "data": {
      "text/plain": [
       "LogisticRegression(C=0.1, class_weight=None, dual=False, fit_intercept=True,\n",
       "          intercept_scaling=1, max_iter=100, multi_class='ovr', n_jobs=1,\n",
       "          penalty='l1', random_state=42, solver='liblinear', tol=0.0001,\n",
       "          verbose=0, warm_start=False)"
      ]
     },
     "execution_count": 20,
     "metadata": {},
     "output_type": "execute_result"
    },
    {
     "data": {
      "text/plain": [
       "0.77622416208935252"
      ]
     },
     "execution_count": 20,
     "metadata": {},
     "output_type": "execute_result"
    }
   ],
   "source": [
    "lr = LogisticRegression(C = 0.1, penalty = 'l1', random_state = 42)\n",
    "lr.fit(X_train, y_train)\n",
    "roc_auc_score(y_train, lr.predict_proba(X_train)[:,1])"
   ]
  },
  {
   "cell_type": "code",
   "execution_count": 21,
   "metadata": {
    "collapsed": true
   },
   "outputs": [],
   "source": [
    "sub = pd.concat([\n",
    "    test.SK_ID_CURR,\n",
    "    pd.DataFrame({'TARGET':lr.predict_proba(X_test)[:,1]})\n",
    "], axis = 1)\n"
   ]
  },
  {
   "cell_type": "code",
   "execution_count": 22,
   "metadata": {},
   "outputs": [
    {
     "data": {
      "text/html": [
       "<div>\n",
       "<style>\n",
       "    .dataframe thead tr:only-child th {\n",
       "        text-align: right;\n",
       "    }\n",
       "\n",
       "    .dataframe thead th {\n",
       "        text-align: left;\n",
       "    }\n",
       "\n",
       "    .dataframe tbody tr th {\n",
       "        vertical-align: top;\n",
       "    }\n",
       "</style>\n",
       "<table border=\"1\" class=\"dataframe\">\n",
       "  <thead>\n",
       "    <tr style=\"text-align: right;\">\n",
       "      <th></th>\n",
       "      <th>SK_ID_CURR</th>\n",
       "      <th>TARGET</th>\n",
       "    </tr>\n",
       "  </thead>\n",
       "  <tbody>\n",
       "    <tr>\n",
       "      <th>0</th>\n",
       "      <td>100001</td>\n",
       "      <td>0.039642</td>\n",
       "    </tr>\n",
       "    <tr>\n",
       "      <th>1</th>\n",
       "      <td>100005</td>\n",
       "      <td>0.104532</td>\n",
       "    </tr>\n",
       "    <tr>\n",
       "      <th>2</th>\n",
       "      <td>100013</td>\n",
       "      <td>0.018295</td>\n",
       "    </tr>\n",
       "    <tr>\n",
       "      <th>3</th>\n",
       "      <td>100028</td>\n",
       "      <td>0.028609</td>\n",
       "    </tr>\n",
       "    <tr>\n",
       "      <th>4</th>\n",
       "      <td>100038</td>\n",
       "      <td>0.196711</td>\n",
       "    </tr>\n",
       "  </tbody>\n",
       "</table>\n",
       "</div>"
      ],
      "text/plain": [
       "   SK_ID_CURR    TARGET\n",
       "0      100001  0.039642\n",
       "1      100005  0.104532\n",
       "2      100013  0.018295\n",
       "3      100028  0.028609\n",
       "4      100038  0.196711"
      ]
     },
     "execution_count": 22,
     "metadata": {},
     "output_type": "execute_result"
    }
   ],
   "source": [
    "sub.head()\n",
    "sub.to_csv('./data/submission/forth_20180609.csv', index = False)"
   ]
  },
  {
   "cell_type": "code",
   "execution_count": null,
   "metadata": {
    "collapsed": true
   },
   "outputs": [],
   "source": []
  }
 ],
 "metadata": {
  "kernelspec": {
   "display_name": "Python 3",
   "language": "python",
   "name": "python3"
  },
  "language_info": {
   "codemirror_mode": {
    "name": "ipython",
    "version": 3
   },
   "file_extension": ".py",
   "mimetype": "text/x-python",
   "name": "python",
   "nbconvert_exporter": "python",
   "pygments_lexer": "ipython3",
   "version": "3.6.1"
  }
 },
 "nbformat": 4,
 "nbformat_minor": 2
}
